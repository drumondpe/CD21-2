{
 "cells": [
  {
   "cell_type": "markdown",
   "metadata": {},
   "source": [
    "___\n",
    "# Exercício: Revisão de alguns tópicos Pré Avaliação 2\n",
    "___\n",
    "\n",
    "## Aula 12"
   ]
  },
  {
   "cell_type": "markdown",
   "metadata": {},
   "source": [
    "___\n",
    "Carregando algumas bibliotecas:"
   ]
  },
  {
   "cell_type": "code",
   "execution_count": 2,
   "metadata": {},
   "outputs": [],
   "source": [
    "%matplotlib inline\n",
    "import math\n",
    "import os\n",
    "\n",
    "import matplotlib.pyplot as plt\n",
    "import numpy as np\n",
    "from numpy import arange\n",
    "import pandas as pd\n",
    "\n",
    "from scipy.stats import poisson, binom, relfreq\n",
    "from IPython.display import display  # Para ter melhor print."
   ]
  },
  {
   "cell_type": "markdown",
   "metadata": {},
   "source": [
    "___\n",
    "<div id=\"indice\"></div>\n",
    "\n",
    "## Índice\n",
    "\n",
    "- [PERFOMANCE DE ESTUDANTES EM EXAMES](#students)\n",
    "    - [Base de dados e Dicionário das variáveis](#dados)\n",
    "    - [Leitura e Preparo da base de dados](#preparo)\n",
    "    - [EXERCÍCIO 1](#ex1) \n",
    "        - [item (a)](#ex1a)\n",
    "        - [item (b)](#ex1b) \n",
    "        - [item (c)](#ex1c) \n",
    "\n",
    "<br>\n",
    "\n",
    "- [EXERCÍCIO 2](#ex2) \n",
    "    - [item (a)](#ex2a)\n",
    "    - [item (b)](#ex2b) \n",
    "    - [item (c)](#ex2c) \n",
    "\n",
    "<br>\n",
    "\n",
    "- [EXERCÍCIO 3](#ex3) \n",
    "    - [item (a)](#ex3a)\n",
    "    - [item (b)](#ex3b) \n",
    "    - [item (c)](#ex3c) "
   ]
  },
  {
   "cell_type": "markdown",
   "metadata": {},
   "source": [
    "___\n",
    "<div id=\"students\"></div>\n",
    "\n",
    "### PERFORMANCE DE ESTUDANTES EM EXAMES\n",
    "\n",
    "<div id=\"dados\"></div>\n",
    "\n",
    "### Base de dados e Dicionário das variáveis:\n",
    "\n",
    "A base de dados foi extraída da plataforma [Kaggle](https://www.kaggle.com/spscientist/students-performance-in-exams) intitulado “Students Performance in Exams”, cujo objetivo principal é verificar a performance do estudante considerando seu *background*. Ainda, para essa avaliação, a base de dados original passou por algumas transformações, como acréscimo de novas variáveis.\n",
    "\n",
    "Essa base de dados possui informação de $1.000$ estudantes.\n",
    "\n",
    "As variáveis apresentadas na base de dados `StudentsPerformance.csv` são:\n",
    " * `gender`: categozido em ['female', 'male'];\n",
    " * `race/ethnicity`: categorizado em ['group A', 'group B', 'group C', 'group D', 'group E'];\n",
    " * `parental level of education`: categorizado em ['some high school', 'high school', 'some college', 'associate's degree', 'bachelor's degree', 'master's degree'], respeitando essa ordem natural;\n",
    " * `lunch`: categorizado em ['free/reduced', 'standard'];\n",
    " * `test preparation course`: categorizado em ['completed', 'none'];\n",
    " * `math score`: nota obtida em matemática, com valor de $0$ a $100$;\n",
    " * `reading score`: nota obtida em leitura, com valor de $0$ a $100$; e\n",
    " * `writing score`: nota obtida em escrita, com valor de $0$ a $100$.\n",
    " \n",
    "<br> \n",
    "\n",
    "Ainda, foram criadas as seguintes variáveis a partir das notas em cada prova:\n",
    " * `Xm`: se a nota de matemática for >= 80, vale 1; caso contrário, vale 0;\n",
    " * `Xr`: se a nota de leitura for >= 80, vale 1; caso contrário, vale 0;\n",
    " * `Xw`: se a nota de escrita for >= 80, vale 1; caso contrário, vale 0;\n",
    " * `Performance`: é definida pela soma de Xm, Xr e Xw. Assim, por exemplo, se `Perfomance` para um estudante for igual a 2, então esse estudante teve score >= 80 nas duas dessas três provas; e de forma análoga para demais caso.\n",
    " \n",
    "Essas variáveis serão criadas rodando alguns códigos a seguir:"
   ]
  },
  {
   "cell_type": "markdown",
   "metadata": {},
   "source": [
    "<div id=\"preparo\"></div>\n",
    "\n",
    "### Leitura e Preparo da base de dados\n",
    "\n",
    "**IMPORTANTE:** Por favor, rodem todos os comandos a seguir antes de chegarno enunciado do Exercício 1."
   ]
  },
  {
   "cell_type": "code",
   "execution_count": 3,
   "metadata": {},
   "outputs": [
    {
     "name": "stdout",
     "output_type": "stream",
     "text": [
      "Esperamos trabalhar no diretório\n",
      "C:\\Users\\Pedro Drumond\\Documents\\Insper 2o semestre\\CDados\\GitHub_CD\\CD21-2\\aula12\n"
     ]
    }
   ],
   "source": [
    "print(\"Esperamos trabalhar no diretório\")\n",
    "print(os.getcwd())\n",
    "#pd.set_option('min_rows', 1000)"
   ]
  },
  {
   "cell_type": "code",
   "execution_count": 4,
   "metadata": {},
   "outputs": [
    {
     "name": "stdout",
     "output_type": "stream",
     "text": [
      "Parece que o arquivo StudentsPerformance.csv está na mesma pasta do notebook da avaliação, yay!\n",
      "\n"
     ]
    }
   ],
   "source": [
    "filename = 'StudentsPerformance.csv'\n",
    "\n",
    "if filename in os.listdir():\n",
    "    print(f'Parece que o arquivo {filename} está na mesma pasta do notebook da avaliação, yay!\\n')\n",
    "    \n",
    "else:\n",
    "    print(f'Não encontrei o arquivo {filename}.\\n'\n",
    "          f'O notebook e os arquivos de dados desta avaliação devem ser salvos dentro da mesma pasta no seu computador.\\n')"
   ]
  },
  {
   "cell_type": "code",
   "execution_count": 5,
   "metadata": {
    "scrolled": true
   },
   "outputs": [],
   "source": [
    "# Carregando os dados\n",
    "dados = pd.read_csv('StudentsPerformance.csv')"
   ]
  },
  {
   "cell_type": "code",
   "execution_count": 6,
   "metadata": {},
   "outputs": [
    {
     "data": {
      "text/plain": [
       "[Index(['female', 'male'], dtype='object'),\n",
       " Index(['group A', 'group B', 'group C', 'group D', 'group E'], dtype='object'),\n",
       " Index(['some high school', 'high school', 'some college', 'associate's degree',\n",
       "        'bachelor's degree', 'master's degree'],\n",
       "       dtype='object'),\n",
       " Index(['free/reduced', 'standard'], dtype='object'),\n",
       " Index(['completed', 'none'], dtype='object')]"
      ]
     },
     "execution_count": 6,
     "metadata": {},
     "output_type": "execute_result"
    }
   ],
   "source": [
    "# Transforma as cinco primeiras colunas da base de dados como categóricas\n",
    "dados.iloc[:,0:5]=dados.iloc[:,0:5].astype('category')\n",
    "\n",
    "# Faz apenas essa ser ordinal respeitando a ordem das categorias definidas em categories\n",
    "dados['parental level of education'] = pd.Categorical(dados['parental level of education'], \n",
    "                                                      categories=['some high school', 'high school',\n",
    "                                                                  'some college',\n",
    "                                                                  \"associate's degree\",\"bachelor's degree\",\"master's degree\"],\n",
    "                                                      ordered=True)\n",
    "\n",
    "# Visualização das categorias dessas variáveis\n",
    "(lambda mostra_categorias: list(map(lambda x: dados.iloc[:,x].cat.categories,\n",
    "                                    mostra_categorias)))([0,1,2,3,4])"
   ]
  },
  {
   "cell_type": "code",
   "execution_count": 7,
   "metadata": {},
   "outputs": [],
   "source": [
    "# Quantifica como 1, se notas >= 80; caso contrário, como 0\n",
    "umzero = lambda x: 1 if x >= 80 else 0\n",
    "dados['Xm'] = dados['math score'].apply(umzero)\n",
    "dados['Xr'] = dados['reading score'].apply(umzero)\n",
    "dados['Xw'] = dados['writing score'].apply(umzero)"
   ]
  },
  {
   "cell_type": "code",
   "execution_count": 8,
   "metadata": {},
   "outputs": [],
   "source": [
    "# Performance: número de provas com score >= 80 entre as 3 provas avaliadas\n",
    "dados['Performance'] = dados.iloc[:,8:11].sum(axis=1)"
   ]
  },
  {
   "cell_type": "code",
   "execution_count": 9,
   "metadata": {
    "scrolled": true
   },
   "outputs": [
    {
     "data": {
      "text/html": [
       "<div>\n",
       "<style scoped>\n",
       "    .dataframe tbody tr th:only-of-type {\n",
       "        vertical-align: middle;\n",
       "    }\n",
       "\n",
       "    .dataframe tbody tr th {\n",
       "        vertical-align: top;\n",
       "    }\n",
       "\n",
       "    .dataframe thead th {\n",
       "        text-align: right;\n",
       "    }\n",
       "</style>\n",
       "<table border=\"1\" class=\"dataframe\">\n",
       "  <thead>\n",
       "    <tr style=\"text-align: right;\">\n",
       "      <th></th>\n",
       "      <th>gender</th>\n",
       "      <th>race/ethnicity</th>\n",
       "      <th>parental level of education</th>\n",
       "      <th>lunch</th>\n",
       "      <th>test preparation course</th>\n",
       "      <th>math score</th>\n",
       "      <th>reading score</th>\n",
       "      <th>writing score</th>\n",
       "      <th>Xm</th>\n",
       "      <th>Xr</th>\n",
       "      <th>Xw</th>\n",
       "      <th>Performance</th>\n",
       "    </tr>\n",
       "  </thead>\n",
       "  <tbody>\n",
       "    <tr>\n",
       "      <th>0</th>\n",
       "      <td>female</td>\n",
       "      <td>group B</td>\n",
       "      <td>bachelor's degree</td>\n",
       "      <td>standard</td>\n",
       "      <td>none</td>\n",
       "      <td>72</td>\n",
       "      <td>72</td>\n",
       "      <td>74</td>\n",
       "      <td>0</td>\n",
       "      <td>0</td>\n",
       "      <td>0</td>\n",
       "      <td>0</td>\n",
       "    </tr>\n",
       "    <tr>\n",
       "      <th>1</th>\n",
       "      <td>female</td>\n",
       "      <td>group C</td>\n",
       "      <td>some college</td>\n",
       "      <td>standard</td>\n",
       "      <td>completed</td>\n",
       "      <td>69</td>\n",
       "      <td>90</td>\n",
       "      <td>88</td>\n",
       "      <td>0</td>\n",
       "      <td>1</td>\n",
       "      <td>1</td>\n",
       "      <td>2</td>\n",
       "    </tr>\n",
       "    <tr>\n",
       "      <th>2</th>\n",
       "      <td>female</td>\n",
       "      <td>group B</td>\n",
       "      <td>master's degree</td>\n",
       "      <td>standard</td>\n",
       "      <td>none</td>\n",
       "      <td>90</td>\n",
       "      <td>95</td>\n",
       "      <td>93</td>\n",
       "      <td>1</td>\n",
       "      <td>1</td>\n",
       "      <td>1</td>\n",
       "      <td>3</td>\n",
       "    </tr>\n",
       "    <tr>\n",
       "      <th>3</th>\n",
       "      <td>male</td>\n",
       "      <td>group A</td>\n",
       "      <td>associate's degree</td>\n",
       "      <td>free/reduced</td>\n",
       "      <td>none</td>\n",
       "      <td>47</td>\n",
       "      <td>57</td>\n",
       "      <td>44</td>\n",
       "      <td>0</td>\n",
       "      <td>0</td>\n",
       "      <td>0</td>\n",
       "      <td>0</td>\n",
       "    </tr>\n",
       "    <tr>\n",
       "      <th>4</th>\n",
       "      <td>male</td>\n",
       "      <td>group C</td>\n",
       "      <td>some college</td>\n",
       "      <td>standard</td>\n",
       "      <td>none</td>\n",
       "      <td>76</td>\n",
       "      <td>78</td>\n",
       "      <td>75</td>\n",
       "      <td>0</td>\n",
       "      <td>0</td>\n",
       "      <td>0</td>\n",
       "      <td>0</td>\n",
       "    </tr>\n",
       "    <tr>\n",
       "      <th>...</th>\n",
       "      <td>...</td>\n",
       "      <td>...</td>\n",
       "      <td>...</td>\n",
       "      <td>...</td>\n",
       "      <td>...</td>\n",
       "      <td>...</td>\n",
       "      <td>...</td>\n",
       "      <td>...</td>\n",
       "      <td>...</td>\n",
       "      <td>...</td>\n",
       "      <td>...</td>\n",
       "      <td>...</td>\n",
       "    </tr>\n",
       "    <tr>\n",
       "      <th>995</th>\n",
       "      <td>female</td>\n",
       "      <td>group E</td>\n",
       "      <td>master's degree</td>\n",
       "      <td>standard</td>\n",
       "      <td>completed</td>\n",
       "      <td>88</td>\n",
       "      <td>99</td>\n",
       "      <td>95</td>\n",
       "      <td>1</td>\n",
       "      <td>1</td>\n",
       "      <td>1</td>\n",
       "      <td>3</td>\n",
       "    </tr>\n",
       "    <tr>\n",
       "      <th>996</th>\n",
       "      <td>male</td>\n",
       "      <td>group C</td>\n",
       "      <td>high school</td>\n",
       "      <td>free/reduced</td>\n",
       "      <td>none</td>\n",
       "      <td>62</td>\n",
       "      <td>55</td>\n",
       "      <td>55</td>\n",
       "      <td>0</td>\n",
       "      <td>0</td>\n",
       "      <td>0</td>\n",
       "      <td>0</td>\n",
       "    </tr>\n",
       "    <tr>\n",
       "      <th>997</th>\n",
       "      <td>female</td>\n",
       "      <td>group C</td>\n",
       "      <td>high school</td>\n",
       "      <td>free/reduced</td>\n",
       "      <td>completed</td>\n",
       "      <td>59</td>\n",
       "      <td>71</td>\n",
       "      <td>65</td>\n",
       "      <td>0</td>\n",
       "      <td>0</td>\n",
       "      <td>0</td>\n",
       "      <td>0</td>\n",
       "    </tr>\n",
       "    <tr>\n",
       "      <th>998</th>\n",
       "      <td>female</td>\n",
       "      <td>group D</td>\n",
       "      <td>some college</td>\n",
       "      <td>standard</td>\n",
       "      <td>completed</td>\n",
       "      <td>68</td>\n",
       "      <td>78</td>\n",
       "      <td>77</td>\n",
       "      <td>0</td>\n",
       "      <td>0</td>\n",
       "      <td>0</td>\n",
       "      <td>0</td>\n",
       "    </tr>\n",
       "    <tr>\n",
       "      <th>999</th>\n",
       "      <td>female</td>\n",
       "      <td>group D</td>\n",
       "      <td>some college</td>\n",
       "      <td>free/reduced</td>\n",
       "      <td>none</td>\n",
       "      <td>77</td>\n",
       "      <td>86</td>\n",
       "      <td>86</td>\n",
       "      <td>0</td>\n",
       "      <td>1</td>\n",
       "      <td>1</td>\n",
       "      <td>2</td>\n",
       "    </tr>\n",
       "  </tbody>\n",
       "</table>\n",
       "<p>1000 rows × 12 columns</p>\n",
       "</div>"
      ],
      "text/plain": [
       "     gender race/ethnicity parental level of education         lunch  \\\n",
       "0    female        group B           bachelor's degree      standard   \n",
       "1    female        group C                some college      standard   \n",
       "2    female        group B             master's degree      standard   \n",
       "3      male        group A          associate's degree  free/reduced   \n",
       "4      male        group C                some college      standard   \n",
       "..      ...            ...                         ...           ...   \n",
       "995  female        group E             master's degree      standard   \n",
       "996    male        group C                 high school  free/reduced   \n",
       "997  female        group C                 high school  free/reduced   \n",
       "998  female        group D                some college      standard   \n",
       "999  female        group D                some college  free/reduced   \n",
       "\n",
       "    test preparation course  math score  reading score  writing score  Xm  Xr  \\\n",
       "0                      none          72             72             74   0   0   \n",
       "1                 completed          69             90             88   0   1   \n",
       "2                      none          90             95             93   1   1   \n",
       "3                      none          47             57             44   0   0   \n",
       "4                      none          76             78             75   0   0   \n",
       "..                      ...         ...            ...            ...  ..  ..   \n",
       "995               completed          88             99             95   1   1   \n",
       "996                    none          62             55             55   0   0   \n",
       "997               completed          59             71             65   0   0   \n",
       "998               completed          68             78             77   0   0   \n",
       "999                    none          77             86             86   0   1   \n",
       "\n",
       "     Xw  Performance  \n",
       "0     0            0  \n",
       "1     1            2  \n",
       "2     1            3  \n",
       "3     0            0  \n",
       "4     0            0  \n",
       "..   ..          ...  \n",
       "995   1            3  \n",
       "996   0            0  \n",
       "997   0            0  \n",
       "998   0            0  \n",
       "999   1            2  \n",
       "\n",
       "[1000 rows x 12 columns]"
      ]
     },
     "execution_count": 9,
     "metadata": {},
     "output_type": "execute_result"
    }
   ],
   "source": [
    "# Conteúdo das 5 primeiras linhas da base de dados\n",
    "dados"
   ]
  },
  {
   "cell_type": "code",
   "execution_count": 10,
   "metadata": {
    "pycharm": {
     "name": "#%%\n"
    },
    "scrolled": true
   },
   "outputs": [
    {
     "data": {
      "text/plain": [
       "gender                         category\n",
       "race/ethnicity                 category\n",
       "parental level of education    category\n",
       "lunch                          category\n",
       "test preparation course        category\n",
       "math score                        int64\n",
       "reading score                     int64\n",
       "writing score                     int64\n",
       "Xm                                int64\n",
       "Xr                                int64\n",
       "Xw                                int64\n",
       "Performance                       int64\n",
       "dtype: object"
      ]
     },
     "execution_count": 10,
     "metadata": {},
     "output_type": "execute_result"
    }
   ],
   "source": [
    "dados.dtypes"
   ]
  },
  {
   "cell_type": "markdown",
   "metadata": {},
   "source": [
    "[Voltar ao Índice](#indice) "
   ]
  },
  {
   "cell_type": "markdown",
   "metadata": {},
   "source": [
    "___\n",
    "<div id=\"ex1\"></div>\n",
    "\n",
    "### EXERCÍCIO 1:\n",
    "\n",
    "Num contexto teórico, seja **`Y` o número de provas que um aluno obteve score maior ou igual a 80 entre as 3 provas avaliadas**. Já na base de dados, os resultados empíricos dessa contagem estão na coluna `Performance`, a qual foi construída somando as colunas `Xm`, `Xr` e `Xw`.\n",
    "\n",
    "Assuma que essa variável **`Y` possa ser ajustada pelo modelo binomial com parâmetros $n=3$ e $p=0.21$**, sendo $n$ igual ao total de provas que cada aluno é submetido; e $p$ a probabilidade de um aluno ter score pelo menos 80 em uma prova qualquer.\n",
    "\n",
    "**Responda:**"
   ]
  },
  {
   "cell_type": "markdown",
   "metadata": {},
   "source": [
    "<div id=\"ex1a\"></div>\n",
    "\n",
    "**(a)** \n",
    "Como discutido em sala, uma das suposições da Binomial é ter independência entre as tentativas, ou seja, aqui seria independência entre as notas obtidas por cada aluno.\n",
    "\n",
    "Verifique, por meio de **medidas numéricas** adequada, se essas notas obtidas nas três provas podem ser consideradas independentes entre si. **Interprete os resultados**."
   ]
  },
  {
   "cell_type": "code",
   "execution_count": 11,
   "metadata": {},
   "outputs": [
    {
     "name": "stdout",
     "output_type": "stream",
     "text": [
      "0.5563241159662116 0.48792101387811776 0.7771142200184511\n"
     ]
    }
   ],
   "source": [
    "# ESCREVA SUA RESPOSTA AQUI\n",
    "Xm_Xr = dados['Xm'].corr(dados.Xr)\n",
    "Xm_Xw = dados.Xm.corr(dados.Xw)\n",
    "Xr_Xw = dados.Xr.corr(dados.Xw)\n",
    "print(Xm_Xr, Xm_Xw, Xr_Xw)"
   ]
  },
  {
   "cell_type": "markdown",
   "metadata": {
    "pycharm": {
     "name": "#%% md\n"
    }
   },
   "source": [
    "Existe correlaçao entre as notas obtidas em cada prova. A correlaçao entre as notas obtidas em matemática e as notas obtidas em redação ou gramatica nao é muito alta, ficando por volta de 0.5, considerada uma correlação de intensidade media, no entanto, a correlaçao entre gramatica e redaçao e de quase 0.8, considerada uma correlaçao alta visto q esta quase no 1. Em suma, podemos concluir que estas variáveis sao dependentes entre si."
   ]
  },
  {
   "cell_type": "markdown",
   "metadata": {},
   "source": [
    "**Independente da sua resposta anterior, considere que a distribuição binomial seja adequada para modelar a variável de interesse nos próximos itens deste exercício!**\n",
    "\n",
    "<div id=\"ex1b\"></div>\n",
    "\n",
    "**b)**\n",
    "Num contexto teórico, seja **`Y` o número de provas que um aluno obteve score maior ou igual a 80 entre as 3 provas avaliadas**. Assuma que **`Y` segue um binomial com parâmetros $n=3$ e $p=0.21$**\n",
    ", sendo $n$ igual ao total de provas que cada aluno é submetido; e $p$ a probabilidade de um aluno ter score pelo menos 80 em uma prova qualquer.\n",
    "\n",
    "Na base de dados, os resultados empíricos dessa contagem estão na coluna **`Performance`**.\n",
    "\n",
    "Faça:\n",
    " * Considerando o modelo teórico, calcule a probabilidade de cada valor que essa variável `Y` pode assumir. Mostre cada uma dessas probabilidades teóricas.\n",
    " * Considerando a base de dados, calcule as frequências relativas que cada valor da variável `Performance` pode assumir. Mostre cada uma dessas frequências relativas.\n",
    " * Comparando esses resultados (não precisa fazer gráfico), você acha esse modelo adequado aos dados? Justifique. \n",
    " "
   ]
  },
  {
   "cell_type": "code",
   "execution_count": 12,
   "metadata": {},
   "outputs": [],
   "source": [
    "# ESCREVA SUA RESPOSTA AQUI"
   ]
  },
  {
   "cell_type": "code",
   "execution_count": 13,
   "metadata": {},
   "outputs": [
    {
     "name": "stdout",
     "output_type": "stream",
     "text": [
      "[0.493039, 0.39318299999999995, 0.104517, 0.009261],\n",
      "[673, 98, 108, 121],\n",
      "[0.673, 0.098, 0.108, 0.121]\n"
     ]
    }
   ],
   "source": [
    "n = 3\n",
    "p = 0.21\n",
    "probs = [binom.pmf(0, n, p), binom.pmf(1, n, p), binom.pmf(2, n, p), binom.pmf(3, n, p)]\n",
    "freq = []\n",
    "a = list(dados['Performance'])\n",
    "freq.append(a.count(0))\n",
    "freq.append(a.count(1))\n",
    "freq.append(a.count(2))\n",
    "freq.append(a.count(3))\n",
    "freq_rel = [word/len(a) for word in freq]\n",
    "print(f'''{probs},\n",
    "{freq},\n",
    "{freq_rel}''')"
   ]
  },
  {
   "cell_type": "markdown",
   "metadata": {
    "pycharm": {
     "name": "#%% md\n"
    }
   },
   "source": [
    "NAO TA ERRADO, MAS N TA TOTALMENTE CERTO\n",
    "Nao, pois os dados de probabilidade mostram que a probabilidade de um aluno obter \"x\" notas boas decai a medida que aumentamos o parametro \"x\", ja as frequencias relativas mostram que dados que um aluno tirou nota boa, a frequencia aumenta conforme o aumento do parametro \"x\". Sendo \"x\" em todos os casos o numero de notas boas.\n",
    "\n",
    "Nao, pois ao compararmos as probabilidades com as frequencia relativas, percebemos que a distribuiçao de probabilidades nao condiz com a frequencia relativa esopecialmente se observarmos os dados para 0 e 1 notas boas. Enquanto para 0 notas boas obtivemos uma probabilidade de 0.49 e para 1 nota boa obtivemos uma probabilidade 0.39, as frequencias relativas mostram que na realidade a diferença entre a frequencia de pessoas com 0 e com 1 nota boa é muito maior (0.575)."
   ]
  },
  {
   "cell_type": "markdown",
   "metadata": {},
   "source": [
    "<div id=\"ex1c\"></div>\n",
    "\n",
    "**(c)** \n",
    "No modelo teórico Binomial, o parâmetro $p$ é definido pela probabilidade de um aluno ter score pelo menos 80 em uma prova qualquer.\n",
    "\n",
    "Com base no conjunto de dados, estime esse parâmetro $p$. "
   ]
  },
  {
   "cell_type": "code",
   "execution_count": 14,
   "metadata": {},
   "outputs": [
    {
     "name": "stdout",
     "output_type": "stream",
     "text": [
      "0.22566666666666668\n"
     ]
    }
   ],
   "source": [
    "import math as mt\n",
    "# ESCREVA SUA RESPOSTA AQUI\n",
    "# noinspection PyListCreation\n",
    "daod = []\n",
    "#print(dados[['Xm', 'Xr', 'Xw']].value_counts(normalize=True))\n",
    "daod.append(dados['Xm'].value_counts(normalize=True)[1])\n",
    "daod.append(dados['Xr'].value_counts(normalize=True)[1])\n",
    "daod.append(dados['Xw'].value_counts(normalize=True)[1])\n",
    "a = sum(i for i in daod)/3\n",
    "print(a)"
   ]
  },
  {
   "cell_type": "code",
   "execution_count": null,
   "metadata": {},
   "outputs": [],
   "source": []
  },
  {
   "cell_type": "markdown",
   "metadata": {},
   "source": [
    "[Respostas](#resp)\n",
    "\n",
    "[Voltar ao Índice](#indice) "
   ]
  },
  {
   "cell_type": "markdown",
   "metadata": {},
   "source": [
    "___\n",
    "<div id=\"ex2\"></div>\n",
    "\n",
    "### EXERCÍCIO 2:\n",
    "\n",
    "O teste CAPTCHA é um teste simples para provar que um acesso remoto está sendo feito por um ser humano e não por *bot* tentando invadir uma conta protegida por senha. Assim, quando um teste não é resolvido, considera-se que houve uma tentativa de invasão por *bot*.\n",
    "\n",
    "Uma empresa tem uma **taxa de $500$ testes CAPTCHA não resolvidos diariamente**, ou seja, $500$ tentativas de invasão por *bot*, em média, diariamente.\n",
    "\n",
    "Essa empresa considera sofrer **ataque de** **_bots_** quando **pelo menos** $540$ testes CAPTCHA não são resolvidos em um dia, ou seja, quando a quantidade de testes CAPTCHA não resolvidos em um dia valem $\\geq 540$.\n",
    "\n",
    "<br>\n",
    "\n",
    "**Responda:**"
   ]
  },
  {
   "cell_type": "markdown",
   "metadata": {},
   "source": [
    "<div id=\"ex2a\"></div>\n",
    "\n",
    "**(a)** \n",
    "Qual é a **probabilidade** dessa empresa sofrer um  **ataque de** **_bots_** em dia qualquer?"
   ]
  },
  {
   "cell_type": "code",
   "execution_count": 20,
   "metadata": {},
   "outputs": [
    {
     "data": {
      "text/plain": [
       "0.03994463749032684"
      ]
     },
     "execution_count": 20,
     "metadata": {},
     "output_type": "execute_result"
    }
   ],
   "source": [
    "# ESCREVA SUA RESPOSTA AQUI\n",
    "taxa = 500\n",
    "1 - poisson.cdf(539, taxa)"
   ]
  },
  {
   "cell_type": "code",
   "execution_count": null,
   "metadata": {},
   "outputs": [],
   "source": []
  },
  {
   "cell_type": "markdown",
   "metadata": {},
   "source": [
    "<div id=\"ex2b\"></div>\n",
    "\n",
    "**(b)** \n",
    "Em um dia com mais de $500$ testes CAPTCHA não resolvidos, qual é a **probabilidade** da empresa **não** ter sofrido um **ataque de** **_bots_** nesse mesmo dia?"
   ]
  },
  {
   "cell_type": "code",
   "execution_count": 16,
   "metadata": {},
   "outputs": [
    {
     "data": {
      "text/plain": [
       "0.9181644930751002"
      ]
     },
     "execution_count": 16,
     "metadata": {},
     "output_type": "execute_result"
    }
   ],
   "source": [
    "# ESCREVA SUA RESPOSTA AQUI\n",
    "(poisson.sf(500, taxa)-poisson.sf(539, taxa))/poisson.sf(500, taxa)"
   ]
  },
  {
   "cell_type": "markdown",
   "metadata": {},
   "source": [
    "[Respostas](#resp)\n",
    "\n",
    "[Voltar ao Índice](#indice) "
   ]
  },
  {
   "cell_type": "markdown",
   "metadata": {},
   "source": [
    "___\n",
    "<div id=\"ex3\"></div>\n",
    "\n",
    "### EXERCÍCIO 3:\n",
    "\n",
    "No artigo de [Moro et al (2014)](https://www.researchgate.net/publication/260805594_A_Data-Driven_Approach_to_Predict_the_Success_of_Bank_Telemarketing), o intuito é prever o sucesso de vendas do telemarketing na venda de um produto bancário, considerando clientes de um banco português abordados entre 2008 e 2013.\n",
    "\n",
    "Para cada cliente, foram mensurados o tempo de duração do contato telefônico (em segundos) e a venda ou não do produto bancário oferecido.\n",
    "\n",
    "Os resultados foram que:\n",
    "  * $88,5\\%$ dos clientes abordados não aderiram ao produto bancário;\n",
    "  * dos clientes que não aderiram ao produto bancário, $77,3\\%$ deles conversaram no máximo 5 minutos no telefone; e\n",
    "  * dos clientes que conversaram no máximo 5 minutos no telefone, $94,9\\%$ deles não aderiram ao produto bancário."
   ]
  },
  {
   "cell_type": "markdown",
   "metadata": {},
   "source": [
    "<div id=\"ex3a\"></div>\n",
    "\n",
    "**(a)** \n",
    "Nesse contexto, calcule a probabilidade de um cliente qualquer conversar no máximo 5 minutos no telefone ao receber um contato telefônico para venda desse produto bancário. "
   ]
  },
  {
   "cell_type": "code",
   "execution_count": 17,
   "metadata": {},
   "outputs": [
    {
     "name": "stdout",
     "output_type": "stream",
     "text": [
      "0.7208693361433088\n"
     ]
    }
   ],
   "source": [
    "# ESCREVA SUA RESPOSTA AQUI\n",
    "#P(cinco) = P(cinco|NA) * P(NA)/P(NA|cinco)\n",
    "P_na = 0.885\n",
    "P_cinco_NA=0.773\n",
    "P_NA_cinco = 0.949\n",
    "P_cinco = 0.773*0.885/0.949\n",
    "print(P_cinco)"
   ]
  },
  {
   "cell_type": "markdown",
   "metadata": {},
   "source": [
    "P(Mcinco|NA) = P(NA|Mcinco)*P(Mcinco)/P(NA)\n",
    "P(NA|Mcinco) = P(Mcinco|NA)*P(NA)/P(Mcinco)\n",
    "P(NA|Mcinco) = 0.227*0.885/(1-P_cinco)\n",
    "<div id=\"ex3b\"></div>\n",
    "\n",
    "**(b)** \n",
    "Se um cliente conversar mais do que 5 minutos, qual a probabilidade desse cliente aderir ao produto bancário?"
   ]
  },
  {
   "cell_type": "markdown",
   "metadata": {
    "pycharm": {
     "name": "#%% md\n"
    }
   },
   "source": [
    "P(A|Mcinco) = P(Mcinco|A) * P(A)/P(Mcinco) **ou** 1-P(NA|Mcinco)\n",
    "\n",
    "P(NA|Mcinco) = P(Mcinco|NA) * P(NA)/P(Mcinco)\n",
    "P(NA|M_cinco) = 0.227*0.885/(1-P_cinco)\n",
    "\n",
    "P(A|Mcinco) = 1-P(Mcinco|NA)*P(NA)/P(Mcinco)\n",
    "P(A|Mcinco) = 1-0.227*0.885/(1-P_cinco)"
   ]
  },
  {
   "cell_type": "code",
   "execution_count": 18,
   "metadata": {},
   "outputs": [
    {
     "name": "stdout",
     "output_type": "stream",
     "text": [
      "0.2802833009305571\n"
     ]
    }
   ],
   "source": [
    "# ESCREVA SUA RESPOSTA AQUI\n",
    "\n",
    "\n",
    "P_NA_Mcinco = 0.227*0.885/(1-P_cinco)\n",
    "print(1-P_NA_Mcinco)\n",
    "\n",
    "#/(1-P_cinco)"
   ]
  },
  {
   "cell_type": "code",
   "execution_count": null,
   "metadata": {},
   "outputs": [],
   "source": []
  },
  {
   "cell_type": "markdown",
   "metadata": {},
   "source": [
    "<div id=\"ex3c\"></div>\n",
    "\n",
    "**(c)** Afirmativa: \"Considerando os clientes abordados entre 2008 e 2013, o sucesso da venda do produto bancário oferecido ao cliente depende do tempo de duração do contato telefônico\".\n",
    "\n",
    "Responda se \"Concorda\" ou \"Discorda\" da afirmação **justificando**, adequadamente, com uso de **valores numéricos de probabilidade** desta questão. Caso contrário, a resposta será considerada inválida."
   ]
  },
  {
   "cell_type": "code",
   "execution_count": 19,
   "metadata": {},
   "outputs": [],
   "source": [
    "# ESCREVA SUA RESPOSTA AQUI"
   ]
  },
  {
   "cell_type": "code",
   "execution_count": null,
   "metadata": {},
   "outputs": [],
   "source": []
  },
  {
   "cell_type": "markdown",
   "metadata": {},
   "source": [
    "[Respostas](#resp) \n",
    "\n",
    "[Voltar ao Índice](#indice) "
   ]
  },
  {
   "cell_type": "markdown",
   "metadata": {},
   "source": [
    "___\n",
    "<div id=\"resp\"></div>\n",
    "\n",
    "### Algumas respostas:\n",
    "\n",
    "**EXERCÍCIO 1:**\n",
    "\n",
    " * (a) Discuta usando correlações adequadas\n",
    " * (b) Distribuição de probabilidades da variável aleatória Y:\n",
    "     * P(Y=0) = 0.4930\n",
    "     * P(Y=1) = 0.3932\n",
    "     * P(Y=2) = 0.1045\n",
    "     * P(Y=3) = 0.0093\n",
    " * (b) Frequências relativas da variável Performance:\n",
    "     * 0 $\\quad$ 0.673\n",
    "     * 1 $\\quad$ 0.098\n",
    "     * 2 $\\quad$ 0.108\n",
    "     * 3 $\\quad$ 0.121\n",
    " * (c) Baseando na média da Binomial => E(Y) = np, então p = E(Y)/n. Considerando os dados, p_estimado = (média de Performance)/3 = 0.2256667\n",
    "     \n",
    "**EXERCÍCIO 2:**\n",
    "\n",
    " * (a) 0.03994463749032684\n",
    " * (b) 0.9181644930751003\n",
    "     \n",
    "     \n",
    "**EXERCÍCIO 3:**\n",
    "\n",
    " * (a) 0.7208693361433088\n",
    " * (b) 0.2802833009305572\n",
    " * (c) \"Concorda. Uma possível resposta com olhar de corcondância: A probabilidade de um cliente aderir ao produto é de 12%, entretanto se a ligação dura mais de 5 min, essa probabilidade de adesão aumenta para 28%.\""
   ]
  },
  {
   "cell_type": "code",
   "execution_count": null,
   "metadata": {},
   "outputs": [],
   "source": []
  }
 ],
 "metadata": {
  "kernelspec": {
   "display_name": "Python 3",
   "language": "python",
   "name": "python3"
  },
  "language_info": {
   "codemirror_mode": {
    "name": "ipython",
    "version": 3
   },
   "file_extension": ".py",
   "mimetype": "text/x-python",
   "name": "python",
   "nbconvert_exporter": "python",
   "pygments_lexer": "ipython3",
   "version": "3.7.6"
  }
 },
 "nbformat": 4,
 "nbformat_minor": 4
}
