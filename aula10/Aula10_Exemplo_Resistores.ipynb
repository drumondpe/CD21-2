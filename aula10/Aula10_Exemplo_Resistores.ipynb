{
 "cells": [
  {
   "cell_type": "markdown",
   "metadata": {},
   "source": [
    "___\n",
    "# Exemplo: Distribuição Binomial\n",
    "\n",
    "___\n",
    "## Aula 10\n",
    "\n",
    "\n",
    "## Lista de comandos:"
   ]
  },
  {
   "cell_type": "markdown",
   "metadata": {},
   "source": [
    "Comandos:\n",
    "\n",
    "- $P(Y=y)$: `stats.binom.pmf(y, n, p)` y = sucessos, n = total de repetições, p = probabilidade do sucesso\n",
    "- $P(Y\\leq y)$: `stats.binom.cdf(y, n, p)` em 100 no máximo 3 falharem $P(100\\leq 3)$ acumula todas as probabilidades até 3\n",
    "- $E(Y)$: `stats.binom.mean(n, p)`\n",
    "- $Var(Y)$: `stats.binom.var(n, p)`\n",
    "- $DP(Y)$: `stats.binom.std(n, p)`\n",
    "\n",
    "Link: https://docs.scipy.org/doc/scipy/reference/generated/scipy.stats.binom.html"
   ]
  },
  {
   "cell_type": "code",
   "execution_count": 2,
   "metadata": {},
   "outputs": [],
   "source": [
    "from scipy import stats"
   ]
  },
  {
   "cell_type": "markdown",
   "metadata": {},
   "source": [
    "A probabilidade de um determinado resistor falhar é sempre de 0,20. \n",
    "\n",
    "Considere pacote de 100 resistores.\n",
    "\n",
    "=> Y: número de resistores que falham em 100 resistores independentes"
   ]
  },
  {
   "cell_type": "code",
   "execution_count": 3,
   "metadata": {},
   "outputs": [],
   "source": [
    "# Problema:\n",
    "n=100  # total de resistores\n",
    "p=0.2  # probabilidade de sucesso"
   ]
  },
  {
   "cell_type": "markdown",
   "metadata": {},
   "source": [
    "a) Em um pacote com 100 resistores, qual a probabilidade de 20 falharem?\n",
    "\n",
    "*Resposta esperada: 0.09930021480881725*"
   ]
  },
  {
   "cell_type": "code",
   "execution_count": 4,
   "metadata": {},
   "outputs": [
    {
     "data": {
      "text/plain": [
       "0.09930021480881725"
      ]
     },
     "execution_count": 4,
     "metadata": {},
     "output_type": "execute_result"
    }
   ],
   "source": [
    "# ESCREVA SEU CÓDIGO AQUI\n",
    "#prob = stats.binom.pmf(y, n, p)\n",
    "\n",
    "y = 20  #quantidade de 'sucessos'\n",
    "#prob = stats.binom.pmf(20, 100, 0.2)\n",
    "prob = stats.binom.pmf(y, 100, 0.2)\n",
    "prob"
   ]
  },
  {
   "cell_type": "markdown",
   "metadata": {},
   "source": [
    "b) Em um pacote com 100 resistores, qual a probabilidade de no máximo 20 falharem?\n",
    "\n",
    "*Resposta esperada: 0.5594615848733977*"
   ]
  },
  {
   "cell_type": "code",
   "execution_count": 5,
   "metadata": {},
   "outputs": [
    {
     "data": {
      "text/plain": [
       "0.5594615848733977"
      ]
     },
     "execution_count": 5,
     "metadata": {},
     "output_type": "execute_result"
    }
   ],
   "source": [
    "# Probabilidade acumulada até o valor acumudalo de y valendo 20\n",
    "# P(Y <= 20) = P(Y = 0) + P(Y = 1) + P(Y = 2) + ... + P(Y = 20) até 20!\n",
    "\n",
    "#P_Y_nomax_20 = stats.binom.cdf(y, n, p)\n",
    "P_Y_nomax_20 = stats.binom.cdf(20, 100, 0.2)\n",
    "P_Y_nomax_20"
   ]
  },
  {
   "cell_type": "markdown",
   "metadata": {},
   "source": [
    "c) Em um pacote com 100 resistores, qual a probabilidade de pelo menos 20 falharem?\n",
    "\n",
    "*Resposta esperada: 0.5398386299354281*"
   ]
  },
  {
   "cell_type": "code",
   "execution_count": 6,
   "metadata": {},
   "outputs": [
    {
     "data": {
      "text/plain": [
       "0.5398386299354281"
      ]
     },
     "execution_count": 6,
     "metadata": {},
     "output_type": "execute_result"
    }
   ],
   "source": [
    "# Descarta os menores que 20\n",
    "# P(Y >= 20) = P(Y = 20) + P(Y = 21) + ... + P(Y = 100)\n",
    "# P(Y >= 20) = 1 - P(Y <= 19)\n",
    "P = 1 - stats.binom.cdf(19, 100, 0.2)\n",
    "P"
   ]
  },
  {
   "cell_type": "markdown",
   "metadata": {},
   "source": [
    "___\n",
    "### Exercícios EXTRAS"
   ]
  },
  {
   "cell_type": "markdown",
   "metadata": {},
   "source": [
    "d) Em um pacote com 100 resistores, qual a probabilidade mais de 20 e menos de 40 falharem?\n",
    "\n",
    "*Resposta esperada: 0.4405348067064877*"
   ]
  },
  {
   "cell_type": "code",
   "execution_count": 11,
   "metadata": {},
   "outputs": [
    {
     "data": {
      "text/plain": [
       "0.4405348067064877"
      ]
     },
     "execution_count": 11,
     "metadata": {},
     "output_type": "execute_result"
    }
   ],
   "source": [
    "# P(Y > 20 e Y < 40) = P(Y = 21) + P(Y = 22) + ... + P(Y = 39) = P(Y <= 39) - P(Y <= 20)\n",
    "P = stats.binom.cdf(39, 100, 0.2) - stats.binom.cdf(20, 100, 0.2) #acumulado até 39 - acumulado até 20\n",
    "P"
   ]
  },
  {
   "cell_type": "markdown",
   "metadata": {},
   "source": [
    "e) Em um pacote com 100 resistores, qual a probabilidade menos de 20 OU mais de 40 falharem?\n",
    "\n",
    "*Resposta esperada: 0.460162662248815*"
   ]
  },
  {
   "cell_type": "code",
   "execution_count": 8,
   "metadata": {},
   "outputs": [
    {
     "data": {
      "text/plain": [
       "0.460162662248815"
      ]
     },
     "execution_count": 8,
     "metadata": {},
     "output_type": "execute_result"
    }
   ],
   "source": [
    "# P(Y < 20) ou P(Y > 40)\n",
    "P1 = stats.binom.cdf(19, 100, 0.2) #P(Y <= 19) igualdade até esse ponto\n",
    "P2 = 1 - stats.binom.cdf(40, 100, 0.2) #Descarta os abaixo de 40\n",
    "P = P1 + P2\n",
    "P"
   ]
  },
  {
   "cell_type": "markdown",
   "metadata": {},
   "source": [
    "f) Em um pacote com 100 resistores, se mais de 20 resistores falharam, qual a probabilidade de ter no máximo 25 com falhas?\n",
    "\n",
    "*Resposta esperada: 0.8014352854598751*"
   ]
  },
  {
   "cell_type": "code",
   "execution_count": 9,
   "metadata": {},
   "outputs": [
    {
     "data": {
      "text/plain": [
       "0.8014352854598751"
      ]
     },
     "execution_count": 9,
     "metadata": {},
     "output_type": "execute_result"
    }
   ],
   "source": [
    "# P(Y <= 25 dado Y > 20) = P(Y > 20 n Y <= 25) / P(Y < 20)\n",
    "\n",
    "numerador = stats.binom.cdf(25, 100, 0.2) - stats.binom.cdf(20, 100, 0.2) #acumula tudo até 25 e tira 20 de baixo\n",
    "denominador = 1 - stats.binom.cdf(20, 100, 0.2) #acumulado dos maiores que 20\n",
    "\n",
    "P_Yentre25e21_dado_Ymaior20 = numerador/denominador\n",
    "P_Yentre25e21_dado_Ymaior20"
   ]
  },
  {
   "cell_type": "code",
   "execution_count": null,
   "metadata": {},
   "outputs": [],
   "source": []
  }
 ],
 "metadata": {
  "kernelspec": {
   "display_name": "Python 3",
   "language": "python",
   "name": "python3"
  },
  "language_info": {
   "codemirror_mode": {
    "name": "ipython",
    "version": 3
   },
   "file_extension": ".py",
   "mimetype": "text/x-python",
   "name": "python",
   "nbconvert_exporter": "python",
   "pygments_lexer": "ipython3",
   "version": "3.7.6"
  }
 },
 "nbformat": 4,
 "nbformat_minor": 2
}
