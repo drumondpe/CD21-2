{
 "cells": [
  {
   "cell_type": "markdown",
   "metadata": {},
   "source": [
    "___\n",
    "# Exercício: Exploratória para Manipular um DataFrame\n",
    "___\n",
    "\n",
    "## Aula 01"
   ]
  },
  {
   "cell_type": "markdown",
   "metadata": {},
   "source": [
    "## Índice\n",
    "\n",
    "- [Gapminder](#gap)\n",
    "- [Exercício 1](#ex1) **- APS1 disponível no Blackboard**\n",
    "- [Exercício 2](#ex2) **- APS1 disponível no Blackboard**\n",
    "- [Resumo dos comandos](#resumo-comandos)"
   ]
  },
  {
   "cell_type": "markdown",
   "metadata": {},
   "source": [
    "___\n",
    "**IMPORTANTE**: os exercícios marcados com &#x2605;&#x2605;&#x2605; são mais difíceis e vão exigir que você aprenda novas funções do pandas. Recomendamos que vocês tentem fazer esses exercícios mesmo depois da aula.\n"
   ]
  },
  {
   "cell_type": "markdown",
   "metadata": {},
   "source": [
    "<div id=\"gap\"></div>\n",
    "\n",
    "___\n",
    "\n",
    "## Gapminder\n",
    "\n",
    "Gapminder é uma fundação sueca independente, sem afiliações políticas, religiosas ou econômicas.\n",
    "Possui diversas estatísticas socioeconômicas de quase todos países do mundo que podem ser facilmente obtidas por este [link](https://www.gapminder.org/data/).\n",
    "\n",
    "Para visualizar relações entre alguns indicadores dos países, veja [aqui](https://www.gapminder.org/tools/)\n"
   ]
  },
  {
   "cell_type": "markdown",
   "metadata": {},
   "source": [
    "O arquivo `Gapminder.xlsx` contém um *dataset* extraída do software R (mais detalhes [aqui](https://rdrr.io/cran/dslabs/man/gapminder.html)).\n",
    "\n",
    "Essa base de dados precisa de algumas manipulações antes de iniciar a análise exploratória, entretanto, a mesma irá depender do problema traçado. Nesse *dataframe*, os indicadores estão mensurados para 185 países os quais se repetem entre os anos de 1960 e 2016.\n"
   ]
  },
  {
   "cell_type": "code",
   "execution_count": 2,
   "metadata": {},
   "outputs": [],
   "source": [
    "# Importando as bibliotecas necessárias para esta atividade\n",
    "import pandas as pd\n",
    "import os"
   ]
  },
  {
   "cell_type": "code",
   "execution_count": 3,
   "metadata": {},
   "outputs": [
    {
     "name": "stdout",
     "output_type": "stream",
     "text": [
      "Esperamos trabalhar no diretório: \n",
      "C:\\Users\\Pedro Drumond\\Documents\\Insper 2o semestre\\CDados\\GitHub_CD\\CD21-2\\aula01\n",
      "\n"
     ]
    }
   ],
   "source": [
    "print(f'Esperamos trabalhar no diretório: \\n{os.getcwd()}\\n')"
   ]
  },
  {
   "cell_type": "code",
   "execution_count": 4,
   "metadata": {},
   "outputs": [
    {
     "name": "stdout",
     "output_type": "stream",
     "text": [
      "Parece que o arquivo Gapminder.xlsx está na mesma pasta do notebook, yay!\n"
     ]
    }
   ],
   "source": [
    "filename = 'Gapminder.xlsx'\n",
    "\n",
    "if filename in os.listdir():\n",
    "    print(f'Parece que o arquivo {filename} está na mesma pasta do notebook, yay!')\n",
    "    \n",
    "else:\n",
    "    print(f'Não encontrei o arquivo {filename}')"
   ]
  },
  {
   "cell_type": "code",
   "execution_count": 5,
   "metadata": {},
   "outputs": [],
   "source": [
    "gap = pd.read_excel('Gapminder.xlsx')"
   ]
  },
  {
   "cell_type": "markdown",
   "metadata": {},
   "source": [
    "Aqui, `gap` é uma variável do tipo `DataFrame`. Cada uma das colunas significa:\n",
    "\n",
    "- **country**: nome do país;\n",
    "- **year**: ano;\n",
    "- **infant_mortality**: mortalidade infantil a cada 1000 nascidos;\n",
    "- **life_expectancy**: expectativa de vida;\n",
    "- **fertility**: número médio de filhos por mulher;\n",
    "- **population**: população do país;\n",
    "- **gpd**: PIB de acordo com World Bankdev;\n",
    "- **continent**: continente;\n",
    "- **region**: região geográfica.\n",
    "\n"
   ]
  },
  {
   "cell_type": "code",
   "execution_count": 6,
   "metadata": {},
   "outputs": [
    {
     "data": {
      "text/html": [
       "<div>\n",
       "<style scoped>\n",
       "    .dataframe tbody tr th:only-of-type {\n",
       "        vertical-align: middle;\n",
       "    }\n",
       "\n",
       "    .dataframe tbody tr th {\n",
       "        vertical-align: top;\n",
       "    }\n",
       "\n",
       "    .dataframe thead th {\n",
       "        text-align: right;\n",
       "    }\n",
       "</style>\n",
       "<table border=\"1\" class=\"dataframe\">\n",
       "  <thead>\n",
       "    <tr style=\"text-align: right;\">\n",
       "      <th></th>\n",
       "      <th>Unnamed: 0</th>\n",
       "      <th>country</th>\n",
       "      <th>year</th>\n",
       "      <th>infant_mortality</th>\n",
       "      <th>life_expectancy</th>\n",
       "      <th>fertility</th>\n",
       "      <th>population</th>\n",
       "      <th>gdp</th>\n",
       "      <th>continent</th>\n",
       "      <th>region</th>\n",
       "    </tr>\n",
       "  </thead>\n",
       "  <tbody>\n",
       "    <tr>\n",
       "      <th>0</th>\n",
       "      <td>1</td>\n",
       "      <td>Albania</td>\n",
       "      <td>1960</td>\n",
       "      <td>115.40</td>\n",
       "      <td>62.87</td>\n",
       "      <td>6.19</td>\n",
       "      <td>1636054.0</td>\n",
       "      <td>NaN</td>\n",
       "      <td>Europe</td>\n",
       "      <td>Southern Europe</td>\n",
       "    </tr>\n",
       "    <tr>\n",
       "      <th>1</th>\n",
       "      <td>2</td>\n",
       "      <td>Algeria</td>\n",
       "      <td>1960</td>\n",
       "      <td>148.20</td>\n",
       "      <td>47.50</td>\n",
       "      <td>7.65</td>\n",
       "      <td>11124892.0</td>\n",
       "      <td>1.382815e+10</td>\n",
       "      <td>Africa</td>\n",
       "      <td>Northern Africa</td>\n",
       "    </tr>\n",
       "    <tr>\n",
       "      <th>2</th>\n",
       "      <td>3</td>\n",
       "      <td>Angola</td>\n",
       "      <td>1960</td>\n",
       "      <td>208.00</td>\n",
       "      <td>35.98</td>\n",
       "      <td>7.32</td>\n",
       "      <td>5270844.0</td>\n",
       "      <td>NaN</td>\n",
       "      <td>Africa</td>\n",
       "      <td>Middle Africa</td>\n",
       "    </tr>\n",
       "    <tr>\n",
       "      <th>3</th>\n",
       "      <td>4</td>\n",
       "      <td>Antigua and Barbuda</td>\n",
       "      <td>1960</td>\n",
       "      <td>NaN</td>\n",
       "      <td>62.97</td>\n",
       "      <td>4.43</td>\n",
       "      <td>54681.0</td>\n",
       "      <td>NaN</td>\n",
       "      <td>Americas</td>\n",
       "      <td>Caribbean</td>\n",
       "    </tr>\n",
       "    <tr>\n",
       "      <th>4</th>\n",
       "      <td>5</td>\n",
       "      <td>Argentina</td>\n",
       "      <td>1960</td>\n",
       "      <td>59.87</td>\n",
       "      <td>65.39</td>\n",
       "      <td>3.11</td>\n",
       "      <td>20619075.0</td>\n",
       "      <td>1.083223e+11</td>\n",
       "      <td>Americas</td>\n",
       "      <td>South America</td>\n",
       "    </tr>\n",
       "  </tbody>\n",
       "</table>\n",
       "</div>"
      ],
      "text/plain": [
       "   Unnamed: 0              country  year  infant_mortality  life_expectancy  \\\n",
       "0           1              Albania  1960            115.40            62.87   \n",
       "1           2              Algeria  1960            148.20            47.50   \n",
       "2           3               Angola  1960            208.00            35.98   \n",
       "3           4  Antigua and Barbuda  1960               NaN            62.97   \n",
       "4           5            Argentina  1960             59.87            65.39   \n",
       "\n",
       "   fertility  population           gdp continent           region  \n",
       "0       6.19   1636054.0           NaN    Europe  Southern Europe  \n",
       "1       7.65  11124892.0  1.382815e+10    Africa  Northern Africa  \n",
       "2       7.32   5270844.0           NaN    Africa    Middle Africa  \n",
       "3       4.43     54681.0           NaN  Americas        Caribbean  \n",
       "4       3.11  20619075.0  1.083223e+11  Americas    South America  "
      ]
     },
     "execution_count": 6,
     "metadata": {},
     "output_type": "execute_result"
    }
   ],
   "source": [
    "gap.head()"
   ]
  },
  {
   "cell_type": "markdown",
   "metadata": {},
   "source": [
    "<div id=\"ex1\"></div>\n",
    "\n",
    "___\n",
    "\n",
    "### EXERCÍCIO 1\n",
    "\n",
    "Faça as seguintes manipulações:\n",
    " 1. Filtre apenas as linhas do ano 2010 e selecione as variáveis: `country`, `gdp`, `population` e `continent`\n",
    " 1. Guarde o subconjunto anterior em um novo `DataFrame` chamado `gap2010` e, nele, crie a variável `gdp_cap` que contenha o PIB per capita.\n",
    " 1. Encontre o país com menor PIB per capita em 2010. \n",
    " 1. **Preencha o valor do PIB per capita desse país no campo de resposta do questionário do Blackboard (APS1).**\n",
    "\n",
    "**Dica**: use `gap.dtypes` para saber o tipo de cada variável. Ainda, consulte [aqui](https://cmdlinetips.com/2019/01/3-ways-to-add-new-columns-to-pandas-dataframe/) para entender como criar novas colunas em um *dataframe*."
   ]
  },
  {
   "cell_type": "code",
   "execution_count": 7,
   "metadata": {},
   "outputs": [],
   "source": [
    "# Coloque seu código aqui..."
   ]
  },
  {
   "cell_type": "code",
   "execution_count": 8,
   "metadata": {},
   "outputs": [
    {
     "data": {
      "text/plain": [
       "105.5750831165765"
      ]
     },
     "execution_count": 8,
     "metadata": {},
     "output_type": "execute_result"
    }
   ],
   "source": [
    "#1.\n",
    "anos_2010 = gap['year'] == 2010 #cria a coluna booleana de anos de 2010\n",
    "\n",
    "#2.\n",
    "gap2010 = gap.loc[anos_2010, ['country', 'gdp', 'population', 'continent']] #faz um novo DataFrame com só algumas colunas e as linhas de 2010\n",
    "\n",
    "gap2010['gdp_cap'] = gap2010['gdp']/gap2010['population'] #cria e passa os valores da coluna gpd para a coluna gdp_cap\n",
    "\n",
    "#3. Encontre o país com menor PIB per capita em 2010.\n",
    "\n",
    "### ERRO ESTÁ SENDO AO PROCURAR O MAIOR VALOR ###\n",
    "gap2010['gdp_cap'].min() #procura o menor valor "
   ]
  },
  {
   "cell_type": "markdown",
   "metadata": {},
   "source": [
    "<div id=\"ex2\"></div>\n",
    "\n",
    "___\n",
    "\n",
    "### EXERCÍCIO 2 &#x2605;&#x2605;&#x2605;\n",
    "\n",
    "Faça as seguintes manipulações:\n",
    "  1. Encontre os cinco maiores países (em tamanho populacional) do ano de 2015;\n",
    "  1. Guarde apenas os nomes desses cinco países em uma lista;\n",
    "  1. Considerando a base de dados com todos os anos, filtre as linhas que contenham apenas os cinco países dessa lista e com as colunas  `country`, `year`, `gdp` e `population`. Guarde esse subconjunto em `gap5`;\n",
    "  1. No `DataFrame` `gap5`, crie a variável `dollar_day`, a qual representa uma *proxy* da renda per capita diária do país;\n",
    "  1. **Preencha o valor da renda per capita diária de cada país no ano de 1960, em ordem crescente. no campo de resposta do questionário do Blackboard (APS1).**\n",
    "\n",
    "**Dica**: Para filtrar as linhas apenas dos cinco países selecionados no item 1 deste exercício, pesquise por:\n",
    "  - `isin`: retorna booleano se conteúdo da variável faz parte ou não de uma lista. Consulte sobre esse comando `isin` [aqui](https://pandas.pydata.org/pandas-docs/stable/reference/api/pandas.DataFrame.isin.html)\n",
    "  "
   ]
  },
  {
   "cell_type": "code",
   "execution_count": 9,
   "metadata": {},
   "outputs": [],
   "source": [
    "# Coloque seu código aqui...\n"
   ]
  },
  {
   "cell_type": "code",
   "execution_count": 15,
   "metadata": {},
   "outputs": [
    {
     "data": {
      "text/html": [
       "<div>\n",
       "<style scoped>\n",
       "    .dataframe tbody tr th:only-of-type {\n",
       "        vertical-align: middle;\n",
       "    }\n",
       "\n",
       "    .dataframe tbody tr th {\n",
       "        vertical-align: top;\n",
       "    }\n",
       "\n",
       "    .dataframe thead th {\n",
       "        text-align: right;\n",
       "    }\n",
       "</style>\n",
       "<table border=\"1\" class=\"dataframe\">\n",
       "  <thead>\n",
       "    <tr style=\"text-align: right;\">\n",
       "      <th></th>\n",
       "      <th>country</th>\n",
       "      <th>dollar_day</th>\n",
       "    </tr>\n",
       "  </thead>\n",
       "  <tbody>\n",
       "    <tr>\n",
       "      <th>175</th>\n",
       "      <td>United States</td>\n",
       "      <td>36.486084</td>\n",
       "    </tr>\n",
       "    <tr>\n",
       "      <th>22</th>\n",
       "      <td>Brazil</td>\n",
       "      <td>3.981207</td>\n",
       "    </tr>\n",
       "    <tr>\n",
       "      <th>77</th>\n",
       "      <td>Indonesia</td>\n",
       "      <td>0.575732</td>\n",
       "    </tr>\n",
       "    <tr>\n",
       "      <th>76</th>\n",
       "      <td>India</td>\n",
       "      <td>0.493781</td>\n",
       "    </tr>\n",
       "    <tr>\n",
       "      <th>34</th>\n",
       "      <td>China</td>\n",
       "      <td>0.299070</td>\n",
       "    </tr>\n",
       "  </tbody>\n",
       "</table>\n",
       "</div>"
      ],
      "text/plain": [
       "           country  dollar_day\n",
       "175  United States   36.486084\n",
       "22          Brazil    3.981207\n",
       "77       Indonesia    0.575732\n",
       "76           India    0.493781\n",
       "34           China    0.299070"
      ]
     },
     "execution_count": 15,
     "metadata": {},
     "output_type": "execute_result"
    }
   ],
   "source": [
    "#1\n",
    "anos_2015 = gap['year'] == 2015 #cria a coluna booleana de anos de 2015\n",
    "\n",
    "gap_2015 = gap.loc[anos_2015, ['country', 'gdp', 'population', 'continent']] #cria um novo Dataframe somente de 2015\n",
    "\n",
    "#2\n",
    "cinco_maiores_populacoes = gap_2015.sort_values(by='population', ascending=False).head(5) #procura as 5 maiores populações no DF de 2015\n",
    "cinco_maiores_populacoes_nomes = cinco_maiores_populacoes.loc[:, 'country'] #nomes dos 5 países com maiores populações\n",
    "cinco_maiores_populacoes_nomes\n",
    "#3\n",
    " #para cada linha verifica se um dos quesitos está na coluna país\n",
    "filtra_linhas = (gap['country'] == 'China') | (gap['country'] == 'India') | (gap['country'] == 'United States') | (gap['country'] == 'Indonesia') | (gap['country'] == 'Brazil')\n",
    " #pega todas as linhas que tenham um dos nomes dos países do DF \"gap\"\n",
    "gap5 = gap.loc[filtra_linhas, ['country', 'year', 'gdp', 'population']]\n",
    "gap5\n",
    "#4 precisa pegar o PIB e dividir por 366 (ano bissexto)\n",
    "\n",
    "gap5['dollar_day'] = (gap5['gdp']/gap5['population'])/365\n",
    "\n",
    "PIB_5_1960 = gap5['year'] == 1960\n",
    "anos_1960 = gap5.loc[PIB_5_1960,['country','dollar_day']]\n",
    "anos_1960.sort_values(by=['dollar_day','country'], ascending=False)\n",
    "\n",
    "\n",
    "#gap5['dollar_day'] = gap5.loc[PIB_5_1960, ['gdp']/366] #divide o PIB de cada país\n",
    "#gap5['dollar_day'] #groupby\n",
    "#gap5['dollar_day'] = \n"
   ]
  },
  {
   "cell_type": "markdown",
   "metadata": {},
   "source": [
    "<div id=\"resumo-comandos\"></div>\n",
    "\n",
    "## Resumo dos Comandos\n",
    "\n",
    "Aqui você encontra um resumo dos comandos apresentados neste notebook:\n",
    "\n",
    "- [`dtypes`](#ex1): mostra o tipo de cada variável do *dataframe*.\n",
    "- [`isin`](#ex2): avalia, por exemplo, se conteúdo de uma coluna do *dataframe* faz parte ou não de uma lista.\n",
    "\n",
    "\n"
   ]
  }
 ],
 "metadata": {
  "kernelspec": {
   "display_name": "Python 3",
   "language": "python",
   "name": "python3"
  },
  "language_info": {
   "codemirror_mode": {
    "name": "ipython",
    "version": 3
   },
   "file_extension": ".py",
   "mimetype": "text/x-python",
   "name": "python",
   "nbconvert_exporter": "python",
   "pygments_lexer": "ipython3",
   "version": "3.7.6"
  }
 },
 "nbformat": 4,
 "nbformat_minor": 4
}
