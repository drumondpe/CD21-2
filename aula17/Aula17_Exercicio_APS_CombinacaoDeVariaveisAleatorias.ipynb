{
 "cells": [
  {
   "cell_type": "markdown",
   "metadata": {},
   "source": [
    "___\n",
    "# Exercício para APS: Propriedades de esperança e variância para Combinação linear de variáveis aleatórias\n",
    "___\n",
    "\n",
    "## Aula 17 - Vai ter que usar variável que faz números aleatórios!"
   ]
  },
  {
   "cell_type": "markdown",
   "metadata": {},
   "source": [
    "<div id=\"indice\"></div>\n",
    "\n",
    "## Índice\n",
    "\n",
    "- [Exercício 1](#ex1) **- APS8 disponível no Blackboard**\n",
    "- [Exercício 2](#ex2) **- APS8 disponível no Blackboard**\n",
    "- [Exercício 3](#ex3) **- APS8 disponível no Blackboard**\n",
    "- [Exercício 4](#ex4) **- APS8 disponível no Blackboard**\n",
    "- [Exercício 5](#ex5) **- APS8 disponível no Blackboard**\n",
    "\n",
    "___"
   ]
  },
  {
   "cell_type": "code",
   "execution_count": 6,
   "metadata": {},
   "outputs": [],
   "source": [
    "import pandas as pd\n",
    "import numpy as np\n",
    "from scipy.stats import uniform, expon, norm\n",
    "import matplotlib.pyplot as plt\n",
    "%matplotlib inline"
   ]
  },
  {
   "cell_type": "markdown",
   "metadata": {},
   "source": [
    "___\n",
    "<div id=\"ex1\"></div>\n",
    "\n",
    "### EXERCÍCIO 1\n",
    "\n",
    "Um processo industrial pode ser executado em duas etapas independentes. O tempo gasto em cada etapa leva, em média, 5 horas com desvio padrão de 10 horas.\n",
    "\n",
    "Um engenheiro resolveu modificar o processo de produção fazendo com que seja executado numa única fase, cujo novo tempo de execução agora é o dobro da primeira etapa do processo atual.\n",
    "\n",
    "O novo processo proposto pelo engenheiro deve ser adotado?\n"
   ]
  },
  {
   "cell_type": "code",
   "execution_count": 7,
   "metadata": {},
   "outputs": [
    {
     "name": "stdout",
     "output_type": "stream",
     "text": [
      "10 100\n",
      "10 400\n"
     ]
    }
   ],
   "source": [
    "media1 = 5 + 5\n",
    "var = 10**2\n",
    "\n",
    "media2 = 5 * 2\n",
    "var2 = (2**2) * var\n",
    "print(media1, var)\n",
    "print(media2, var2)"
   ]
  },
  {
   "cell_type": "code",
   "execution_count": 8,
   "metadata": {},
   "outputs": [],
   "source": [
    "# Primeira etapa é melhor"
   ]
  },
  {
   "cell_type": "markdown",
   "metadata": {},
   "source": [
    "___\n",
    "### ENUNCIADO PARA EXERCÍCIOS 2 e 3\n",
    "\n",
    "###  **Quanto custa em média?**\n",
    "\n",
    "O fluido de freio custa, em média, 50 reais. As pastilhas possuem variação alta: em um carro popular custa 80 reais o par, mas pode chegar a 500 reais em um importado. O par das lonas de freio custa 80 reais, o de tambor 180 reais e o de disco 250 reais.\" Extraído da [Revista Auto Esporte](https://revistaautoesporte.globo.com/Servico/autoajuda/noticia/2015/05/autoajuda-freios.html)."
   ]
  },
  {
   "cell_type": "markdown",
   "metadata": {},
   "source": [
    "<div id=\"ex2\"></div>\n",
    "\n",
    "### EXERCÍCIO 2\n",
    "\n",
    "Com a reportagem acima, vimos que as pastilhas de freio têm preços variados, a depender de diversos fatores como marca do carro.\n",
    "\n",
    "Em uma determinada loja de autopeças, o preço médio das pastilhas de freio é de 112 reais, com um desvio-padrão associado a essa variável de 22 reais. \n",
    "\n",
    "Um pessoa entra nessa loja e deseja comprar três pastilhas de freio, sendo todas iguais.\n",
    "\n",
    "Qual o gasto total esperado dessa pessoa e respectivo desvio padrão?\n"
   ]
  },
  {
   "cell_type": "code",
   "execution_count": 1,
   "metadata": {},
   "outputs": [
    {
     "data": {
      "text/plain": [
       "336"
      ]
     },
     "execution_count": 1,
     "metadata": {},
     "output_type": "execute_result"
    }
   ],
   "source": [
    "E_P = 112\n",
    "E_W = E_P * 3\n",
    "E_W"
   ]
  },
  {
   "cell_type": "code",
   "execution_count": 2,
   "metadata": {},
   "outputs": [
    {
     "data": {
      "text/plain": [
       "66.0"
      ]
     },
     "execution_count": 2,
     "metadata": {},
     "output_type": "execute_result"
    }
   ],
   "source": [
    "Var_P = 22**2\n",
    "Var_W = 3**2 * Var_P\n",
    "dp = Var_W**0.5\n",
    "dp"
   ]
  },
  {
   "cell_type": "markdown",
   "metadata": {},
   "source": [
    "___\n",
    "<div id=\"ex3\"></div>\n",
    "\n",
    "### EXERCÍCIO 3\n",
    "\n",
    "Com a reportagem acima, vimos que as pastilhas de freio têm preços variados, a depender de diversos fatores como marca do carro.\n",
    "\n",
    "Em uma determinada loja de autopeças, o preço médio das pastilhas de freio é de 112 reais, com um desvio-padrão associado a essa variável de 22 reais. \n",
    "\n",
    "Uma outra pessoa entra nessa loja e deseja comprar três pastilhas de freio, porém fará escolhas indenpendentes e não necessariamente iguais.\n",
    "Qual o gasto total esperado dessa outra pessoa e respectivo desvio padrão?\n"
   ]
  },
  {
   "cell_type": "code",
   "execution_count": 11,
   "metadata": {},
   "outputs": [
    {
     "data": {
      "text/plain": [
       "336"
      ]
     },
     "execution_count": 11,
     "metadata": {},
     "output_type": "execute_result"
    }
   ],
   "source": [
    "E_1 = 112\n",
    "Var_1 = 22**2\n",
    "E_2 = 112\n",
    "Var_2 = 22**2\n",
    "E_3 = 112\n",
    "Var_3 = 22**2\n",
    "\n",
    "E_W = E_1 + E_2 + E_3\n",
    "E_W"
   ]
  },
  {
   "cell_type": "code",
   "execution_count": 17,
   "metadata": {},
   "outputs": [
    {
     "data": {
      "text/plain": [
       "38.1051177665153"
      ]
     },
     "execution_count": 17,
     "metadata": {},
     "output_type": "execute_result"
    }
   ],
   "source": [
    "#Quando é independentes, variância = 0 - tem somente num conjunto de dados\n",
    "Var_W = Var_1 + Var_2 + Var_3 + 2*0\n",
    "dp = Var_W**0.5\n",
    "dp"
   ]
  },
  {
   "cell_type": "markdown",
   "metadata": {},
   "source": [
    "___\n",
    "<div id=\"ex4\"></div>\n",
    "\n",
    "### EXERCÍCIO 4\n",
    "\n",
    "Joãozinho sai de casa para comprar um notebook e um celular novos!\n",
    "\n",
    "O notebook tem preço médio de R$\\rm{$}$ 2.500,00, com desvio padrão igual a R$\\rm{\\$}$ 1.000,00.\n",
    "\n",
    "O celular tem preço médio de R$\\rm{$}$ 1.300,00, com desvio padrão igual a R$\\rm{$}$ 700,00.\n",
    "\n",
    "Assuma que os preços desses produtos sejam independentes.\n",
    "\n",
    "Joãozinho sabe que terá um gasto alto e, por isso, irá de ônibus. Com isso, deverá acrescentar mais R$\\rm{$}$40,00 de gasto.\n",
    "\n",
    "Qual o gasto esperado e respectivo desvio padrão de Joãozinho?\n"
   ]
  },
  {
   "cell_type": "code",
   "execution_count": 22,
   "metadata": {},
   "outputs": [],
   "source": [
    "E_Note = 2500\n",
    "Var_Note = 1000**2\n",
    "E_Cel = 1300\n",
    "Var_Cel = 700**2\n",
    "\n",
    "E_W = E_Note + E_Cel + 40 #rever o gasto\n",
    "Var_W = Var_Note + Var_Cel + 2*0\n",
    "DP_W = Var_W**0.5"
   ]
  },
  {
   "cell_type": "code",
   "execution_count": 23,
   "metadata": {},
   "outputs": [
    {
     "name": "stdout",
     "output_type": "stream",
     "text": [
      "3840 1220.6555615733703\n"
     ]
    }
   ],
   "source": [
    "print(E_W, DP_W)"
   ]
  },
  {
   "cell_type": "markdown",
   "metadata": {},
   "source": [
    "___\n",
    "<div id=\"ex5\"></div>\n",
    "\n",
    "### EXERCÍCIO 5\n",
    "\n",
    "Aninha é mãe de bebezinhos gêmeos.\n",
    "\n",
    "Ela sairá de casa para comprar uma roupa e um brinquedo para cada um.\n",
    "\n",
    "O preço médio da roupa é de R$\\rm{$}$ 60,00, com desvio padrão igual a R$\\rm{$}$ 15,00.\n",
    "\n",
    "O preço médio do brinquedo é de R$\\rm{$}$ 75,00, com desvio padrão igual a R$\\rm{$}$ 25,00.\n",
    "\n",
    "Assuma que esses produtos tenham preços variando de forma independente entre si.\n",
    "\n",
    "\n",
    "Aninha deseja comprar roupas iguais para os gêmeos, mas os brinquedos não necessariamente serão os mesmos.\n",
    "\n",
    "Nesse caso, qual o gasto esperado de Aninha e o respectivo desvio padrão?"
   ]
  },
  {
   "cell_type": "code",
   "execution_count": 28,
   "metadata": {},
   "outputs": [],
   "source": [
    "E_R = 60\n",
    "Var_R = 15**2\n",
    "E_B = 75\n",
    "Var_B = 25**2\n",
    "\n",
    "E_WR = E_R * 2\n",
    "Var_WR = Var_R * 2**2 #quando é o mesmo tipo, variância é Var*x**2  x -> número de vezes\n",
    "\n",
    "E_WB = E_B + E_B\n",
    "Var_WB = Var_B + Var_B + 2*0\n",
    "\n",
    "E_W = E_WR + E_WB\n",
    "Var_W = Var_WR + Var_WB + 2*0\n",
    "\n",
    "DP_W = Var_W**0.5"
   ]
  },
  {
   "cell_type": "code",
   "execution_count": 29,
   "metadata": {},
   "outputs": [
    {
     "name": "stdout",
     "output_type": "stream",
     "text": [
      "270 46.36809247747852\n"
     ]
    }
   ],
   "source": [
    "print(E_W, DP_W)"
   ]
  },
  {
   "cell_type": "code",
   "execution_count": null,
   "metadata": {},
   "outputs": [],
   "source": []
  }
 ],
 "metadata": {
  "hide_input": false,
  "kernelspec": {
   "display_name": "Python 3",
   "language": "python",
   "name": "python3"
  },
  "language_info": {
   "codemirror_mode": {
    "name": "ipython",
    "version": 3
   },
   "file_extension": ".py",
   "mimetype": "text/x-python",
   "name": "python",
   "nbconvert_exporter": "python",
   "pygments_lexer": "ipython3",
   "version": "3.7.6"
  }
 },
 "nbformat": 4,
 "nbformat_minor": 4
}
