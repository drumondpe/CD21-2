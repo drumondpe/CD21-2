{
 "cells": [
  {
   "cell_type": "markdown",
   "metadata": {},
   "source": [
    "___\n",
    "# Atividade: Análise Exploratória - Tipos de Variáveis e Medidas Resumo\n",
    "___\n",
    "\n",
    "## Aula 02\n"
   ]
  },
  {
   "cell_type": "markdown",
   "metadata": {},
   "source": [
    "<div id=\"indice\"></div>\n",
    "\n",
    "## Índice\n",
    "\n",
    "- [Empresa de TV](#empresa-de-tv)\n",
    "    - [Tipos de variáveis](#tipos-de-variaveis)\n",
    "    - [Exercício 1](#ex1)\n",
    "- [Variáveis QUALITATIVAS](#quali)\n",
    "    - [Definindo as variáveis qualitativas como categóricas](#definindo-as-variaveis-qualitativas-como-categoricas)\n",
    "    - [Tabelas de frequências - Variáveis Qualitativas](#tab-freq-quali)\n",
    "        - [Exercício 2](#ex2)\n",
    "        - [Exercício 3](#ex3)\n",
    "    - [Tabelas cruzadas entre variáveis qualitativas](#tabelas-cruzadas-entre-variaveis-qualitativas)\n",
    "        - [Exercício 4](#ex4)\n",
    "        - [Exercício 5](#ex5)\n",
    "- [Variáveis QUANTITATIVAS](#quanti)\n",
    "    - [Tabelas de frequências - Variáveis Quantitativas - CUIDADO](#tab-freq-quanti)\n",
    "        - [Exercício 6](#ex6)   \n",
    "    - [Medidas resumo](#medidas-resumo)\n",
    "        - [Exercício 7](#ex7)\n",
    "        - [Exercício 8](#ex8)\n",
    "        - [Exercício 9](#ex9)\n",
    "        - [Exercício 10](#ex10)\n",
    "        - [Exercício 11](#ex11)\n",
    "- [Lista de comandos utilizados neste notebook](#comandos)\n",
    "\n",
    "\n",
    "___"
   ]
  },
  {
   "cell_type": "markdown",
   "metadata": {},
   "source": [
    "<div id=\"empresa-de-tv\"></div>\n",
    "\n",
    "# Empresa de TV\n",
    "\n",
    "Uma empresa de TV via satélite criou recentemente dois tipos de planos de canais (A e B).\n",
    "\n",
    "A empresa tem como objetivo estudar o perfil dos clientes que aderiram ao plano para enviar malas diretas aos potenciais clientes de cada tipo de plano.\n",
    "\n",
    "A base de dados apresenta algumas variáveis para uma amostra de 82 clientes selecionados aleatoriamente dentre aqueles que aderiram aos planos. As variáveis têm os seguintes significados:\n",
    "\n",
    "* CLIENTE: identificador do cliente.\n",
    "* PLANO: apresenta o plano adquirido pelo cliente – (1=A ou 2=B). \n",
    "* EC: apresenta estado civil do cliente no momento da adesão ao  plano – (1=Casado, 2=Solteiro e 3=Outros).\n",
    "* SATISFACAO: grau de satisfação do cliente pelo plano – \n",
    "\t(Muito insatisfeito, Insatisfeito, Indiferente, Satisfeito e Muito satisfeito).\n",
    "* RENDA: renda pessoal do cliente, em milhares de reais.\n",
    "\n",
    "O arquivo `EmpresaTV_Cod.xlsx` contém as variáveis descritas acima.\n"
   ]
  },
  {
   "cell_type": "markdown",
   "metadata": {},
   "source": [
    "<div id=\"tipos-de-variaveis\"></div>\n",
    "\n",
    "## Tipos de variáveis\n",
    "\n",
    "Antes de olhar os dados, vamos refletir sobre os tipos de cada variável disponível. Lembrando que temos:\n",
    "\n",
    "- Variáveis qualitativas (ou categóricas):\n",
    "    - Nominal (pesos iguais, serve só para identificar algo, pode ser com números)\n",
    "    - Ordinal (dá para colocar um peso)\n",
    "- Variáveis quantitativas (ou numéricas):\n",
    "    - Discreta (normalmente para números inteiros)\n",
    "    - Contínua (pode assumir infinitos valores)"
   ]
  },
  {
   "cell_type": "markdown",
   "metadata": {},
   "source": [
    "<div id=\"ex1\"></div>\n",
    "\n",
    "### EXERCÍCIO 1:\n",
    "\n",
    "Classifique cada uma das variáveis disponíveis <font color=\"red\">(modifique esta célula)</font>:\n",
    "\n",
    "- PLANO: [Nominal]\n",
    "- EC: [Nominal]\n",
    "- SATISFACAO: [Ordinal]\n",
    "- RENDA: [Contínua]"
   ]
  },
  {
   "cell_type": "markdown",
   "metadata": {},
   "source": [
    "___\n",
    "Agora sim, vamos carregar os dados do arquivo:"
   ]
  },
  {
   "cell_type": "code",
   "execution_count": 1,
   "metadata": {},
   "outputs": [],
   "source": [
    "%matplotlib inline\n",
    "import pandas as pd\n",
    "import os\n",
    "\n",
    "# Para ter melhor print\n",
    "from IPython.display import display"
   ]
  },
  {
   "cell_type": "code",
   "execution_count": 2,
   "metadata": {},
   "outputs": [
    {
     "name": "stdout",
     "output_type": "stream",
     "text": [
      "Esperamos trabalhar no diretório\n",
      "C:\\Users\\Pedro Drumond\\Documents\\Insper 2o semestre\\CDados\\GitHub_CD\\CD21-2\\aula02\n"
     ]
    }
   ],
   "source": [
    "# Listando o diretório de trabalho. Lembre-se que o arquivo com a base de dados precisa estar neste diretório.\n",
    "print('Esperamos trabalhar no diretório')\n",
    "print(os.getcwd())"
   ]
  },
  {
   "cell_type": "code",
   "execution_count": 3,
   "metadata": {},
   "outputs": [],
   "source": [
    "# Carregando os dados do arquivo\n",
    "dados = pd.read_excel('EmpresaTV_Cod.xlsx')"
   ]
  },
  {
   "cell_type": "code",
   "execution_count": 4,
   "metadata": {
    "scrolled": true
   },
   "outputs": [
    {
     "data": {
      "text/html": [
       "<div>\n",
       "<style scoped>\n",
       "    .dataframe tbody tr th:only-of-type {\n",
       "        vertical-align: middle;\n",
       "    }\n",
       "\n",
       "    .dataframe tbody tr th {\n",
       "        vertical-align: top;\n",
       "    }\n",
       "\n",
       "    .dataframe thead th {\n",
       "        text-align: right;\n",
       "    }\n",
       "</style>\n",
       "<table border=\"1\" class=\"dataframe\">\n",
       "  <thead>\n",
       "    <tr style=\"text-align: right;\">\n",
       "      <th></th>\n",
       "      <th>CLIENTE</th>\n",
       "      <th>PLANO</th>\n",
       "      <th>EC</th>\n",
       "      <th>SATISFACAO</th>\n",
       "      <th>RENDA</th>\n",
       "    </tr>\n",
       "  </thead>\n",
       "  <tbody>\n",
       "    <tr>\n",
       "      <th>0</th>\n",
       "      <td>1</td>\n",
       "      <td>1</td>\n",
       "      <td>1</td>\n",
       "      <td>Muito Satisfeito</td>\n",
       "      <td>21.4</td>\n",
       "    </tr>\n",
       "    <tr>\n",
       "      <th>1</th>\n",
       "      <td>2</td>\n",
       "      <td>1</td>\n",
       "      <td>2</td>\n",
       "      <td>Muito Satisfeito</td>\n",
       "      <td>17.2</td>\n",
       "    </tr>\n",
       "    <tr>\n",
       "      <th>2</th>\n",
       "      <td>3</td>\n",
       "      <td>1</td>\n",
       "      <td>3</td>\n",
       "      <td>Muito Satisfeito</td>\n",
       "      <td>15.6</td>\n",
       "    </tr>\n",
       "  </tbody>\n",
       "</table>\n",
       "</div>"
      ],
      "text/plain": [
       "   CLIENTE  PLANO  EC        SATISFACAO  RENDA\n",
       "0        1      1   1  Muito Satisfeito   21.4\n",
       "1        2      1   2  Muito Satisfeito   17.2\n",
       "2        3      1   3  Muito Satisfeito   15.6"
      ]
     },
     "execution_count": 4,
     "metadata": {},
     "output_type": "execute_result"
    }
   ],
   "source": [
    "# Visualizando as primeiras linhas\n",
    "dados.head(3)"
   ]
  },
  {
   "cell_type": "code",
   "execution_count": 5,
   "metadata": {},
   "outputs": [
    {
     "data": {
      "text/plain": [
       "1.7195121951219512"
      ]
     },
     "execution_count": 5,
     "metadata": {},
     "output_type": "execute_result"
    }
   ],
   "source": [
    "dados.EC.mean() #mean faz uma média dos números da coluna"
   ]
  },
  {
   "cell_type": "markdown",
   "metadata": {},
   "source": [
    "[Volta ao Índice](#indice)"
   ]
  },
  {
   "cell_type": "markdown",
   "metadata": {},
   "source": [
    "<div id=\"quali\"></div>\n",
    "\n",
    "___\n",
    "\n",
    "# Variáveis QUALITATIVAS\n",
    "\n",
    "___"
   ]
  },
  {
   "cell_type": "markdown",
   "metadata": {},
   "source": [
    "<div id=\"definindo-as-variaveis-qualitativas-como-categoricas\"></div>\n",
    "\n",
    "## Definindo as variáveis qualitativas como categóricas\n",
    "\n",
    "No [primeiro exercício](#ex1) você deve ter identificado as variáveis PLANO, EC e SATISFACAO como qualitativas (ou categóricas). O pandas não tem como saber dessa informação ao carregar os dados, então precisamos modificar as colunas explicitamente.\n",
    "\n",
    "<div id=\"astype\"></div>\n",
    "\n",
    "A função `.astype` devolve uma cópia da coluna (`Series`) convertida para o tipo desejado. Por exemplo, para transformar uma coluna em categórica devemos utilizar `.astype('category')`."
   ]
  },
  {
   "cell_type": "code",
   "execution_count": 6,
   "metadata": {},
   "outputs": [],
   "source": [
    "dados['PLANO'] = dados['PLANO'].astype('category')\n",
    "dados['EC'] = dados['EC'].astype('category')\n",
    "dados['SATISFACAO'] = dados['SATISFACAO'].astype('category')\n",
    "# A próxima linha é desnecessária, pois a coluna já era do tipo float, mas \n",
    "# queremos mostrar que é possível utilizar outros tipos.\n",
    "dados['RENDA'] = dados['RENDA'].astype('float')"
   ]
  },
  {
   "cell_type": "code",
   "execution_count": 7,
   "metadata": {},
   "outputs": [
    {
     "data": {
      "text/plain": [
       "CLIENTE          int64\n",
       "PLANO         category\n",
       "EC            category\n",
       "SATISFACAO    category\n",
       "RENDA          float64\n",
       "dtype: object"
      ]
     },
     "execution_count": 7,
     "metadata": {},
     "output_type": "execute_result"
    }
   ],
   "source": [
    "dados.dtypes"
   ]
  },
  {
   "cell_type": "code",
   "execution_count": 8,
   "metadata": {},
   "outputs": [
    {
     "data": {
      "text/plain": [
       "1    46\n",
       "2    36\n",
       "Name: PLANO, dtype: int64"
      ]
     },
     "execution_count": 8,
     "metadata": {},
     "output_type": "execute_result"
    }
   ],
   "source": [
    "dados['PLANO'].value_counts() #conta quanto tem de cada um na coluna PLANO"
   ]
  },
  {
   "cell_type": "code",
   "execution_count": 9,
   "metadata": {},
   "outputs": [
    {
     "data": {
      "text/plain": [
       "1    36\n",
       "2    33\n",
       "3    13\n",
       "Name: EC, dtype: int64"
      ]
     },
     "execution_count": 9,
     "metadata": {},
     "output_type": "execute_result"
    }
   ],
   "source": [
    "dados['EC'].value_counts()"
   ]
  },
  {
   "cell_type": "markdown",
   "metadata": {},
   "source": [
    "O uso de códigos numéricos é útil para determinadas finalidades, mas pode dificultar a compreensão. Vamos substituir os códigos numéricos pelos respectivos nomes.\n",
    "\n",
    "<div id=\"categories\"></div>\n",
    "\n",
    "Agora que transformamos as colunas qualitativas em categóricas, podemos listar as categorias com `.cat.categories`:"
   ]
  },
  {
   "cell_type": "code",
   "execution_count": 10,
   "metadata": {},
   "outputs": [
    {
     "data": {
      "text/plain": [
       "Int64Index([1, 2], dtype='int64')"
      ]
     },
     "execution_count": 10,
     "metadata": {},
     "output_type": "execute_result"
    }
   ],
   "source": [
    "# Exemplo com a coluna PLANO\n",
    "dados['PLANO'].cat.categories #mostra as categorias dessa coluna"
   ]
  },
  {
   "cell_type": "markdown",
   "metadata": {},
   "source": [
    "<div id=\"satisfacao-categoria\"></div>\n",
    "\n",
    "Podemos substituir os códigos todos de uma vez da seguinte maneira:"
   ]
  },
  {
   "cell_type": "code",
   "execution_count": 11,
   "metadata": {},
   "outputs": [
    {
     "data": {
      "text/plain": [
       "Index(['A', 'B'], dtype='object')"
      ]
     },
     "execution_count": 11,
     "metadata": {},
     "output_type": "execute_result"
    }
   ],
   "source": [
    "# Exemplo com a coluna PLANO\n",
    "dados['PLANO'].cat.categories = ['A', 'B'] #substitiu as categorias\n",
    "\n",
    "\n",
    "# Visualizando o resultado\n",
    "dados['PLANO'].cat.categories"
   ]
  },
  {
   "cell_type": "markdown",
   "metadata": {},
   "source": [
    "Note que essa ação atualiza todos os valores dessa coluna no `DataFrame`:"
   ]
  },
  {
   "cell_type": "code",
   "execution_count": 12,
   "metadata": {},
   "outputs": [
    {
     "data": {
      "text/plain": [
       "0     A\n",
       "1     A\n",
       "2     A\n",
       "3     A\n",
       "4     A\n",
       "     ..\n",
       "77    B\n",
       "78    B\n",
       "79    B\n",
       "80    B\n",
       "81    B\n",
       "Name: PLANO, Length: 82, dtype: category\n",
       "Categories (2, object): [A, B]"
      ]
     },
     "execution_count": 12,
     "metadata": {},
     "output_type": "execute_result"
    }
   ],
   "source": [
    "dados['PLANO']"
   ]
  },
  {
   "cell_type": "markdown",
   "metadata": {},
   "source": [
    "**Aplicação:** Faça o mesmo para a coluna `EC`:"
   ]
  },
  {
   "cell_type": "code",
   "execution_count": 13,
   "metadata": {},
   "outputs": [
    {
     "data": {
      "text/html": [
       "<div>\n",
       "<style scoped>\n",
       "    .dataframe tbody tr th:only-of-type {\n",
       "        vertical-align: middle;\n",
       "    }\n",
       "\n",
       "    .dataframe tbody tr th {\n",
       "        vertical-align: top;\n",
       "    }\n",
       "\n",
       "    .dataframe thead th {\n",
       "        text-align: right;\n",
       "    }\n",
       "</style>\n",
       "<table border=\"1\" class=\"dataframe\">\n",
       "  <thead>\n",
       "    <tr style=\"text-align: right;\">\n",
       "      <th></th>\n",
       "      <th>EC</th>\n",
       "    </tr>\n",
       "  </thead>\n",
       "  <tbody>\n",
       "    <tr>\n",
       "      <th>0</th>\n",
       "      <td>Casado</td>\n",
       "    </tr>\n",
       "    <tr>\n",
       "      <th>1</th>\n",
       "      <td>Solteiro</td>\n",
       "    </tr>\n",
       "    <tr>\n",
       "      <th>2</th>\n",
       "      <td>Outros</td>\n",
       "    </tr>\n",
       "    <tr>\n",
       "      <th>3</th>\n",
       "      <td>Casado</td>\n",
       "    </tr>\n",
       "    <tr>\n",
       "      <th>4</th>\n",
       "      <td>Solteiro</td>\n",
       "    </tr>\n",
       "    <tr>\n",
       "      <th>...</th>\n",
       "      <td>...</td>\n",
       "    </tr>\n",
       "    <tr>\n",
       "      <th>77</th>\n",
       "      <td>Outros</td>\n",
       "    </tr>\n",
       "    <tr>\n",
       "      <th>78</th>\n",
       "      <td>Solteiro</td>\n",
       "    </tr>\n",
       "    <tr>\n",
       "      <th>79</th>\n",
       "      <td>Casado</td>\n",
       "    </tr>\n",
       "    <tr>\n",
       "      <th>80</th>\n",
       "      <td>Outros</td>\n",
       "    </tr>\n",
       "    <tr>\n",
       "      <th>81</th>\n",
       "      <td>Casado</td>\n",
       "    </tr>\n",
       "  </tbody>\n",
       "</table>\n",
       "<p>82 rows × 1 columns</p>\n",
       "</div>"
      ],
      "text/plain": [
       "          EC\n",
       "0     Casado\n",
       "1   Solteiro\n",
       "2     Outros\n",
       "3     Casado\n",
       "4   Solteiro\n",
       "..       ...\n",
       "77    Outros\n",
       "78  Solteiro\n",
       "79    Casado\n",
       "80    Outros\n",
       "81    Casado\n",
       "\n",
       "[82 rows x 1 columns]"
      ]
     },
     "execution_count": 13,
     "metadata": {},
     "output_type": "execute_result"
    }
   ],
   "source": [
    "# ESCREVA SEU CODIGO AQUI\n",
    "dados['EC'].cat.categories = ['Casado', 'Solteiro', 'Outros'] #substitiu as categorias\n",
    "dados['EC'].to_frame()"
   ]
  },
  {
   "cell_type": "code",
   "execution_count": 14,
   "metadata": {},
   "outputs": [
    {
     "data": {
      "text/html": [
       "<div>\n",
       "<style scoped>\n",
       "    .dataframe tbody tr th:only-of-type {\n",
       "        vertical-align: middle;\n",
       "    }\n",
       "\n",
       "    .dataframe tbody tr th {\n",
       "        vertical-align: top;\n",
       "    }\n",
       "\n",
       "    .dataframe thead th {\n",
       "        text-align: right;\n",
       "    }\n",
       "</style>\n",
       "<table border=\"1\" class=\"dataframe\">\n",
       "  <thead>\n",
       "    <tr style=\"text-align: right;\">\n",
       "      <th></th>\n",
       "      <th>EC</th>\n",
       "    </tr>\n",
       "  </thead>\n",
       "  <tbody>\n",
       "    <tr>\n",
       "      <th>Casado</th>\n",
       "      <td>36</td>\n",
       "    </tr>\n",
       "    <tr>\n",
       "      <th>Solteiro</th>\n",
       "      <td>33</td>\n",
       "    </tr>\n",
       "    <tr>\n",
       "      <th>Outros</th>\n",
       "      <td>13</td>\n",
       "    </tr>\n",
       "  </tbody>\n",
       "</table>\n",
       "</div>"
      ],
      "text/plain": [
       "          EC\n",
       "Casado    36\n",
       "Solteiro  33\n",
       "Outros    13"
      ]
     },
     "execution_count": 14,
     "metadata": {},
     "output_type": "execute_result"
    }
   ],
   "source": [
    "dados['EC'].value_counts().to_frame()"
   ]
  },
  {
   "cell_type": "code",
   "execution_count": 15,
   "metadata": {},
   "outputs": [
    {
     "data": {
      "text/html": [
       "<div>\n",
       "<style scoped>\n",
       "    .dataframe tbody tr th:only-of-type {\n",
       "        vertical-align: middle;\n",
       "    }\n",
       "\n",
       "    .dataframe tbody tr th {\n",
       "        vertical-align: top;\n",
       "    }\n",
       "\n",
       "    .dataframe thead th {\n",
       "        text-align: right;\n",
       "    }\n",
       "</style>\n",
       "<table border=\"1\" class=\"dataframe\">\n",
       "  <thead>\n",
       "    <tr style=\"text-align: right;\">\n",
       "      <th></th>\n",
       "      <th>SATISFACAO</th>\n",
       "    </tr>\n",
       "  </thead>\n",
       "  <tbody>\n",
       "    <tr>\n",
       "      <th>Satisfeito</th>\n",
       "      <td>27</td>\n",
       "    </tr>\n",
       "    <tr>\n",
       "      <th>Indiferente</th>\n",
       "      <td>19</td>\n",
       "    </tr>\n",
       "    <tr>\n",
       "      <th>Insatisfeito</th>\n",
       "      <td>16</td>\n",
       "    </tr>\n",
       "    <tr>\n",
       "      <th>Muito Satisfeito</th>\n",
       "      <td>12</td>\n",
       "    </tr>\n",
       "    <tr>\n",
       "      <th>Muito Insatisfeito</th>\n",
       "      <td>8</td>\n",
       "    </tr>\n",
       "  </tbody>\n",
       "</table>\n",
       "</div>"
      ],
      "text/plain": [
       "                    SATISFACAO\n",
       "Satisfeito                  27\n",
       "Indiferente                 19\n",
       "Insatisfeito                16\n",
       "Muito Satisfeito            12\n",
       "Muito Insatisfeito           8"
      ]
     },
     "execution_count": 15,
     "metadata": {},
     "output_type": "execute_result"
    }
   ],
   "source": [
    "dados['SATISFACAO'].value_counts().to_frame() #value_counts() se não colocar nada, ocorre do mais frequente para o menos"
   ]
  },
  {
   "cell_type": "markdown",
   "metadata": {},
   "source": [
    "[Volta ao Índice](#indice)"
   ]
  },
  {
   "cell_type": "markdown",
   "metadata": {},
   "source": [
    "---\n",
    "\n",
    "<div id=\"ordered\"></div>\n",
    "\n",
    "## Nominal versus ordinal\n",
    "\n",
    "Já definimos que as variáveis PLANO, EC e SATISFACAO são categóricas ou qualitativas. Porém, como definir no Pandas se essas variáveis são nominais (onde não existe uma ordenação natural) ou ordinais (em que existe ordenação)?\n",
    "\n",
    "A informação de que uma variável categórica deve ser nominal ou ordinal está no atributo `.cat.ordered` da variável. Por padrão, quando definimos que uma variável é categórica o Pandas supõe que seja nominal (sem ordem). Confira:"
   ]
  },
  {
   "cell_type": "code",
   "execution_count": 16,
   "metadata": {},
   "outputs": [
    {
     "data": {
      "text/plain": [
       "False"
      ]
     },
     "execution_count": 16,
     "metadata": {},
     "output_type": "execute_result"
    }
   ],
   "source": [
    "dados['PLANO'].cat.ordered"
   ]
  },
  {
   "cell_type": "code",
   "execution_count": 17,
   "metadata": {},
   "outputs": [
    {
     "data": {
      "text/plain": [
       "False"
      ]
     },
     "execution_count": 17,
     "metadata": {},
     "output_type": "execute_result"
    }
   ],
   "source": [
    "dados['EC'].cat.ordered"
   ]
  },
  {
   "cell_type": "code",
   "execution_count": 18,
   "metadata": {},
   "outputs": [
    {
     "data": {
      "text/plain": [
       "False"
      ]
     },
     "execution_count": 18,
     "metadata": {},
     "output_type": "execute_result"
    }
   ],
   "source": [
    "dados['SATISFACAO'].cat.ordered"
   ]
  },
  {
   "cell_type": "markdown",
   "metadata": {},
   "source": [
    "Contudo, a variável SATISFACAO é ordinal! Para converter esta variável de nominal para ordinal devemos usar o comando `pd.Categorical()`:"
   ]
  },
  {
   "cell_type": "code",
   "execution_count": 19,
   "metadata": {},
   "outputs": [
    {
     "data": {
      "text/html": [
       "<div>\n",
       "<style scoped>\n",
       "    .dataframe tbody tr th:only-of-type {\n",
       "        vertical-align: middle;\n",
       "    }\n",
       "\n",
       "    .dataframe tbody tr th {\n",
       "        vertical-align: top;\n",
       "    }\n",
       "\n",
       "    .dataframe thead th {\n",
       "        text-align: right;\n",
       "    }\n",
       "</style>\n",
       "<table border=\"1\" class=\"dataframe\">\n",
       "  <thead>\n",
       "    <tr style=\"text-align: right;\">\n",
       "      <th></th>\n",
       "      <th>CLIENTE</th>\n",
       "      <th>PLANO</th>\n",
       "      <th>EC</th>\n",
       "      <th>SATISFACAO</th>\n",
       "      <th>RENDA</th>\n",
       "    </tr>\n",
       "  </thead>\n",
       "  <tbody>\n",
       "    <tr>\n",
       "      <th>0</th>\n",
       "      <td>1</td>\n",
       "      <td>A</td>\n",
       "      <td>Casado</td>\n",
       "      <td>Muito Satisfeito</td>\n",
       "      <td>21.4</td>\n",
       "    </tr>\n",
       "    <tr>\n",
       "      <th>1</th>\n",
       "      <td>2</td>\n",
       "      <td>A</td>\n",
       "      <td>Solteiro</td>\n",
       "      <td>Muito Satisfeito</td>\n",
       "      <td>17.2</td>\n",
       "    </tr>\n",
       "    <tr>\n",
       "      <th>2</th>\n",
       "      <td>3</td>\n",
       "      <td>A</td>\n",
       "      <td>Outros</td>\n",
       "      <td>Muito Satisfeito</td>\n",
       "      <td>15.6</td>\n",
       "    </tr>\n",
       "    <tr>\n",
       "      <th>3</th>\n",
       "      <td>4</td>\n",
       "      <td>A</td>\n",
       "      <td>Casado</td>\n",
       "      <td>Satisfeito</td>\n",
       "      <td>10.4</td>\n",
       "    </tr>\n",
       "    <tr>\n",
       "      <th>4</th>\n",
       "      <td>5</td>\n",
       "      <td>A</td>\n",
       "      <td>Solteiro</td>\n",
       "      <td>Muito Satisfeito</td>\n",
       "      <td>17.6</td>\n",
       "    </tr>\n",
       "  </tbody>\n",
       "</table>\n",
       "</div>"
      ],
      "text/plain": [
       "   CLIENTE PLANO        EC        SATISFACAO  RENDA\n",
       "0        1     A    Casado  Muito Satisfeito   21.4\n",
       "1        2     A  Solteiro  Muito Satisfeito   17.2\n",
       "2        3     A    Outros  Muito Satisfeito   15.6\n",
       "3        4     A    Casado        Satisfeito   10.4\n",
       "4        5     A  Solteiro  Muito Satisfeito   17.6"
      ]
     },
     "execution_count": 19,
     "metadata": {},
     "output_type": "execute_result"
    }
   ],
   "source": [
    "dados['SATISFACAO'] = pd.Categorical(dados.SATISFACAO, \n",
    "                                     categories = ['Muito Insatisfeito', 'Insatisfeito', 'Indiferente', \n",
    "                                                   'Satisfeito', 'Muito Satisfeito'], \n",
    "                                     ordered=True) #Força a variável ser ORDINAL\n",
    "dados.head(5)"
   ]
  },
  {
   "cell_type": "code",
   "execution_count": 20,
   "metadata": {},
   "outputs": [
    {
     "data": {
      "text/plain": [
       "True"
      ]
     },
     "execution_count": 20,
     "metadata": {},
     "output_type": "execute_result"
    }
   ],
   "source": [
    "dados['SATISFACAO'].cat.ordered"
   ]
  },
  {
   "cell_type": "code",
   "execution_count": 21,
   "metadata": {},
   "outputs": [
    {
     "data": {
      "text/plain": [
       "Muito Insatisfeito     8\n",
       "Insatisfeito          16\n",
       "Indiferente           19\n",
       "Satisfeito            27\n",
       "Muito Satisfeito      12\n",
       "Name: SATISFACAO, dtype: int64"
      ]
     },
     "execution_count": 21,
     "metadata": {},
     "output_type": "execute_result"
    }
   ],
   "source": [
    "dados['SATISFACAO'].value_counts(sort=False)"
   ]
  },
  {
   "cell_type": "markdown",
   "metadata": {},
   "source": [
    "Observe que agora o relatório informa que 'Muito insatisfeito' vem antes de 'Insatisfeito', etc."
   ]
  },
  {
   "cell_type": "markdown",
   "metadata": {},
   "source": [
    "[Volta ao Índice](#indice)"
   ]
  },
  {
   "cell_type": "markdown",
   "metadata": {},
   "source": [
    "<div id=\"tab-freq-quali\"></div>\n",
    "\n",
    "___\n",
    "## Tabelas de frequências - Variáveis Qualitativas\n",
    "\n",
    "Agora estamos prontos para começar nossa análise. Uma primeira pergunta que podemos nos fazer é: dos 82 clientes selecionados, quantos aderiram ao plano A e quantos aderiram ao plano B? Para isso podemos utilizar uma tabela de frequências.\n",
    "\n",
    "<div id=\"value_counts\"></div>\n",
    "\n",
    "A função `.value_counts` pode ser utilizada para montar a tabela de frequências **de uma coluna**."
   ]
  },
  {
   "cell_type": "code",
   "execution_count": 22,
   "metadata": {},
   "outputs": [
    {
     "data": {
      "text/plain": [
       "A    46\n",
       "B    36\n",
       "Name: PLANO, dtype: int64"
      ]
     },
     "execution_count": 22,
     "metadata": {},
     "output_type": "execute_result"
    }
   ],
   "source": [
    "dados['PLANO'].value_counts()"
   ]
  },
  {
   "cell_type": "markdown",
   "metadata": {},
   "source": [
    "<div id=\"ex2\"></div>\n",
    "\n",
    "### EXERCÍCIO 2:\n",
    "\n",
    "Na célula acima obtivemos a tabela de frequências absoluta. Pesquise na documentação da função `value_counts` (deve ser o primeiro resultado ao buscar por \"pandas value_counts\" em sua engine de busca de preferência) como obter a tabela de frequências relativas.\n",
    "\n",
    "**DICA:** Não feche a documentação da função `value_counts`. Você ainda vai precisar dela."
   ]
  },
  {
   "cell_type": "code",
   "execution_count": 23,
   "metadata": {},
   "outputs": [
    {
     "name": "stdout",
     "output_type": "stream",
     "text": [
      "PLANO :\n",
      "A    56.097561\n",
      "B    43.902439\n",
      "Name: PLANO, dtype: float64 \n",
      "\n",
      "EC :\n",
      "Casado      43.902439\n",
      "Solteiro    40.243902\n",
      "Outros      15.853659\n",
      "Name: EC, dtype: float64 \n",
      "\n",
      "SATISFACAO :\n",
      "Muito Insatisfeito     9.756098\n",
      "Insatisfeito          19.512195\n",
      "Indiferente           23.170732\n",
      "Satisfeito            32.926829\n",
      "Muito Satisfeito      14.634146\n",
      "Name: SATISFACAO, dtype: float64 \n",
      "\n"
     ]
    }
   ],
   "source": [
    "# ESCREVA SEU CODIGO AQUI\n",
    "qualis = ['PLANO', 'EC', 'SATISFACAO']\n",
    "for col in qualis:\n",
    "        print(col, ':')\n",
    "        print(dados[col].value_counts(normalize=True, sort=False)*100, '\\n') #NORMALIZE FAZ A PORCENTAGEM"
   ]
  },
  {
   "cell_type": "markdown",
   "metadata": {},
   "source": [
    "[Volta ao Índice](#indice)"
   ]
  },
  {
   "cell_type": "markdown",
   "metadata": {},
   "source": [
    "...\n",
    "\n",
    "Queremos saber quantos clientes se enquadram em cada um dos graus de satisfação. Já sabemos que podemos utilizar a função `value_counts`:"
   ]
  },
  {
   "cell_type": "code",
   "execution_count": 24,
   "metadata": {
    "scrolled": false
   },
   "outputs": [
    {
     "data": {
      "text/plain": [
       "Satisfeito            27\n",
       "Indiferente           19\n",
       "Insatisfeito          16\n",
       "Muito Satisfeito      12\n",
       "Muito Insatisfeito     8\n",
       "Name: SATISFACAO, dtype: int64"
      ]
     },
     "execution_count": 24,
     "metadata": {},
     "output_type": "execute_result"
    }
   ],
   "source": [
    "dados['SATISFACAO'].value_counts()"
   ]
  },
  {
   "cell_type": "markdown",
   "metadata": {},
   "source": [
    "**A seguir, algumas maneiras para obter index (rótulo das linhas) de uma tabela:**"
   ]
  },
  {
   "cell_type": "code",
   "execution_count": 25,
   "metadata": {
    "scrolled": true
   },
   "outputs": [
    {
     "data": {
      "text/plain": [
       "[Satisfeito, Indiferente, Insatisfeito, Muito Satisfeito, Muito Insatisfeito]\n",
       "Categories (5, object): [Muito Insatisfeito < Insatisfeito < Indiferente < Satisfeito < Muito Satisfeito]"
      ]
     },
     "execution_count": 25,
     "metadata": {},
     "output_type": "execute_result"
    }
   ],
   "source": [
    "dados['SATISFACAO'].value_counts().index.values"
   ]
  },
  {
   "cell_type": "code",
   "execution_count": 26,
   "metadata": {
    "scrolled": false
   },
   "outputs": [
    {
     "data": {
      "text/plain": [
       "CategoricalIndex(['Satisfeito', 'Indiferente', 'Insatisfeito',\n",
       "                  'Muito Satisfeito', 'Muito Insatisfeito'],\n",
       "                 categories=['Muito Insatisfeito', 'Insatisfeito', 'Indiferente', 'Satisfeito', 'Muito Satisfeito'], ordered=True, dtype='category')"
      ]
     },
     "execution_count": 26,
     "metadata": {},
     "output_type": "execute_result"
    }
   ],
   "source": [
    "dados['SATISFACAO'].value_counts().keys()"
   ]
  },
  {
   "cell_type": "markdown",
   "metadata": {},
   "source": [
    "**Aqui, algumas maneiras para obter o index e as frequências de uma tabela:**"
   ]
  },
  {
   "cell_type": "code",
   "execution_count": 45,
   "metadata": {},
   "outputs": [
    {
     "data": {
      "text/plain": [
       "Muito Insatisfeito     8\n",
       "Insatisfeito          16\n",
       "Indiferente           19\n",
       "Satisfeito            27\n",
       "Muito Satisfeito      12\n",
       "Name: SATISFACAO, dtype: int64"
      ]
     },
     "execution_count": 45,
     "metadata": {},
     "output_type": "execute_result"
    }
   ],
   "source": [
    "tab = dados['SATISFACAO'].value_counts(sort=False)\n",
    "tab"
   ]
  },
  {
   "cell_type": "code",
   "execution_count": 46,
   "metadata": {
    "scrolled": true
   },
   "outputs": [
    {
     "data": {
      "text/plain": [
       "['Muito Insatisfeito',\n",
       " 'Insatisfeito',\n",
       " 'Indiferente',\n",
       " 'Satisfeito',\n",
       " 'Muito Satisfeito']"
      ]
     },
     "execution_count": 46,
     "metadata": {},
     "output_type": "execute_result"
    }
   ],
   "source": [
    "list(tab.index)"
   ]
  },
  {
   "cell_type": "code",
   "execution_count": 47,
   "metadata": {},
   "outputs": [
    {
     "data": {
      "text/plain": [
       "[8, 16, 19, 27, 12]"
      ]
     },
     "execution_count": 47,
     "metadata": {},
     "output_type": "execute_result"
    }
   ],
   "source": [
    "list(tab.values)"
   ]
  },
  {
   "cell_type": "code",
   "execution_count": 48,
   "metadata": {},
   "outputs": [
    {
     "data": {
      "text/plain": [
       "[('Muito Insatisfeito', 8),\n",
       " ('Insatisfeito', 16),\n",
       " ('Indiferente', 19),\n",
       " ('Satisfeito', 27),\n",
       " ('Muito Satisfeito', 12)]"
      ]
     },
     "execution_count": 48,
     "metadata": {},
     "output_type": "execute_result"
    }
   ],
   "source": [
    "list(tab.iteritems())"
   ]
  },
  {
   "cell_type": "code",
   "execution_count": 49,
   "metadata": {
    "scrolled": true
   },
   "outputs": [
    {
     "name": "stdout",
     "output_type": "stream",
     "text": [
      "Categoria Muito Insatisfeito foi encontrada 8 vezes\n",
      "Categoria Insatisfeito foi encontrada 16 vezes\n",
      "Categoria Indiferente foi encontrada 19 vezes\n",
      "Categoria Satisfeito foi encontrada 27 vezes\n",
      "Categoria Muito Satisfeito foi encontrada 12 vezes\n"
     ]
    }
   ],
   "source": [
    "for val, cnt in tab.iteritems():\n",
    "    print(f'Categoria {val} foi encontrada {cnt} vezes')"
   ]
  },
  {
   "cell_type": "markdown",
   "metadata": {},
   "source": [
    "**Ver este [link](https://stackoverflow.com/questions/36973387/accessing-first-column-of-pandas-value-counts) para mais detalhes, por exemplo**"
   ]
  },
  {
   "cell_type": "markdown",
   "metadata": {},
   "source": [
    "[Volta ao Índice](#indice)"
   ]
  },
  {
   "cell_type": "markdown",
   "metadata": {},
   "source": [
    "<div id=\"ex3\"></div>\n",
    "\n",
    "### EXERCÍCIO 3:\n",
    "\n",
    "A tabela de frequências absolutas acima nos dá a informação que precisamos, mas a ordem dos graus de satisfação dificulta a compreensão. Procure na documentação:\n",
    "\n",
    "1. Por que a tabela foi apresentada nessa ordem;\n",
    "1. Como fazer para não utilizar essa ordem (e utilizar a [ordem definida nas categorias](#satisfacao-categoria));\n",
    "1. Escreva na célula abaixo o código que mostra a tabela de frequências **relativas** na ordem desejada."
   ]
  },
  {
   "cell_type": "code",
   "execution_count": 32,
   "metadata": {},
   "outputs": [],
   "source": [
    "# ESCREVA SEU CODIGO AQUI"
   ]
  },
  {
   "cell_type": "markdown",
   "metadata": {},
   "source": [
    "[Volta ao Índice](#indice)"
   ]
  },
  {
   "cell_type": "markdown",
   "metadata": {},
   "source": [
    "<div id=\"tabelas-cruzadas-entre-variaveis-qualitativas\"></div>\n",
    "\n",
    "___\n",
    "## Tabelas cruzadas entre variáveis qualitativas\n",
    "\n",
    "Nas tabelas de frequência já vimos quantos clientes aderiram a cada plano e quantos estão em cada grau de satisfação. Mas, lembrando do propósito inicial, a empresa quer estudar o perfil dos clientes de cada plano e, até agora, não adicionamos nenhum conhecimento novo.\n",
    "\n",
    "Vamos mudar isso tentando responder a seguinte pergunta: como a satisfação dos clientes do plano A se compara à dos clientes do plano B?\n",
    "\n",
    "<div id=\"crosstab\"></div>\n",
    "\n",
    "Podemos montar uma tabela cruzada de plano versus satisfação com a função `pd.crosstab`:"
   ]
  },
  {
   "cell_type": "code",
   "execution_count": 33,
   "metadata": {},
   "outputs": [
    {
     "data": {
      "text/html": [
       "<div>\n",
       "<style scoped>\n",
       "    .dataframe tbody tr th:only-of-type {\n",
       "        vertical-align: middle;\n",
       "    }\n",
       "\n",
       "    .dataframe tbody tr th {\n",
       "        vertical-align: top;\n",
       "    }\n",
       "\n",
       "    .dataframe thead th {\n",
       "        text-align: right;\n",
       "    }\n",
       "</style>\n",
       "<table border=\"1\" class=\"dataframe\">\n",
       "  <thead>\n",
       "    <tr style=\"text-align: right;\">\n",
       "      <th>SATISFACAO</th>\n",
       "      <th>Muito Insatisfeito</th>\n",
       "      <th>Insatisfeito</th>\n",
       "      <th>Indiferente</th>\n",
       "      <th>Satisfeito</th>\n",
       "      <th>Muito Satisfeito</th>\n",
       "      <th>All</th>\n",
       "    </tr>\n",
       "    <tr>\n",
       "      <th>PLANO</th>\n",
       "      <th></th>\n",
       "      <th></th>\n",
       "      <th></th>\n",
       "      <th></th>\n",
       "      <th></th>\n",
       "      <th></th>\n",
       "    </tr>\n",
       "  </thead>\n",
       "  <tbody>\n",
       "    <tr>\n",
       "      <th>A</th>\n",
       "      <td>2</td>\n",
       "      <td>5</td>\n",
       "      <td>7</td>\n",
       "      <td>20</td>\n",
       "      <td>12</td>\n",
       "      <td>46</td>\n",
       "    </tr>\n",
       "    <tr>\n",
       "      <th>B</th>\n",
       "      <td>6</td>\n",
       "      <td>11</td>\n",
       "      <td>12</td>\n",
       "      <td>7</td>\n",
       "      <td>0</td>\n",
       "      <td>36</td>\n",
       "    </tr>\n",
       "    <tr>\n",
       "      <th>All</th>\n",
       "      <td>8</td>\n",
       "      <td>16</td>\n",
       "      <td>19</td>\n",
       "      <td>27</td>\n",
       "      <td>12</td>\n",
       "      <td>82</td>\n",
       "    </tr>\n",
       "  </tbody>\n",
       "</table>\n",
       "</div>"
      ],
      "text/plain": [
       "SATISFACAO  Muito Insatisfeito  Insatisfeito  Indiferente  Satisfeito  \\\n",
       "PLANO                                                                   \n",
       "A                            2             5            7          20   \n",
       "B                            6            11           12           7   \n",
       "All                          8            16           19          27   \n",
       "\n",
       "SATISFACAO  Muito Satisfeito  All  \n",
       "PLANO                              \n",
       "A                         12   46  \n",
       "B                          0   36  \n",
       "All                       12   82  "
      ]
     },
     "execution_count": 33,
     "metadata": {},
     "output_type": "execute_result"
    }
   ],
   "source": [
    "pd.crosstab(dados['PLANO'], dados['SATISFACAO'], margins = True) #linha e coluna"
   ]
  },
  {
   "cell_type": "code",
   "execution_count": 34,
   "metadata": {},
   "outputs": [
    {
     "data": {
      "text/html": [
       "<div>\n",
       "<style scoped>\n",
       "    .dataframe tbody tr th:only-of-type {\n",
       "        vertical-align: middle;\n",
       "    }\n",
       "\n",
       "    .dataframe tbody tr th {\n",
       "        vertical-align: top;\n",
       "    }\n",
       "\n",
       "    .dataframe thead th {\n",
       "        text-align: right;\n",
       "    }\n",
       "</style>\n",
       "<table border=\"1\" class=\"dataframe\">\n",
       "  <thead>\n",
       "    <tr style=\"text-align: right;\">\n",
       "      <th>EC</th>\n",
       "      <th>Casado</th>\n",
       "      <th>Solteiro</th>\n",
       "      <th>Outros</th>\n",
       "    </tr>\n",
       "    <tr>\n",
       "      <th>PLANO</th>\n",
       "      <th></th>\n",
       "      <th></th>\n",
       "      <th></th>\n",
       "    </tr>\n",
       "  </thead>\n",
       "  <tbody>\n",
       "    <tr>\n",
       "      <th>A</th>\n",
       "      <td>26</td>\n",
       "      <td>13</td>\n",
       "      <td>7</td>\n",
       "    </tr>\n",
       "    <tr>\n",
       "      <th>B</th>\n",
       "      <td>10</td>\n",
       "      <td>20</td>\n",
       "      <td>6</td>\n",
       "    </tr>\n",
       "  </tbody>\n",
       "</table>\n",
       "</div>"
      ],
      "text/plain": [
       "EC     Casado  Solteiro  Outros\n",
       "PLANO                          \n",
       "A          26        13       7\n",
       "B          10        20       6"
      ]
     },
     "execution_count": 34,
     "metadata": {},
     "output_type": "execute_result"
    }
   ],
   "source": [
    "pd.crosstab(dados['PLANO'], dados['EC']) #linha e coluna"
   ]
  },
  {
   "cell_type": "markdown",
   "metadata": {},
   "source": [
    "<div id=\"ex4\"></div>\n",
    "\n",
    "### EXERCÍCIO 4\n",
    "\n",
    "Sabemos que a quantidade de clientes em cada plano na nossa amostra é diferente. Por esse motivo, não podemos comparar os valores absolutos. Procure a documentação da função `pd.crosstab` (busque por \"pandas crosstab\") e crie uma nova tabela cruzada:\n",
    "\n",
    "- Que apresente as frequências relativas ao invés de absolutas para cada plano (ou seja, do total de clientes do plano A, qual é a frequência relativa de muito insatisfeitos, insatisfeitos, etc. e para o plano B?);\n",
    "- Armazene o resultado em uma variável chamada `plano_x_satisfacao` (é importante que você utilize exatamente esse nome para que as próximas células funcionem)."
   ]
  },
  {
   "cell_type": "code",
   "execution_count": 50,
   "metadata": {},
   "outputs": [
    {
     "data": {
      "text/html": [
       "<div>\n",
       "<style scoped>\n",
       "    .dataframe tbody tr th:only-of-type {\n",
       "        vertical-align: middle;\n",
       "    }\n",
       "\n",
       "    .dataframe tbody tr th {\n",
       "        vertical-align: top;\n",
       "    }\n",
       "\n",
       "    .dataframe thead th {\n",
       "        text-align: right;\n",
       "    }\n",
       "</style>\n",
       "<table border=\"1\" class=\"dataframe\">\n",
       "  <thead>\n",
       "    <tr style=\"text-align: right;\">\n",
       "      <th>SATISFACAO</th>\n",
       "      <th>Muito Insatisfeito</th>\n",
       "      <th>Insatisfeito</th>\n",
       "      <th>Indiferente</th>\n",
       "      <th>Satisfeito</th>\n",
       "      <th>Muito Satisfeito</th>\n",
       "    </tr>\n",
       "    <tr>\n",
       "      <th>PLANO</th>\n",
       "      <th></th>\n",
       "      <th></th>\n",
       "      <th></th>\n",
       "      <th></th>\n",
       "      <th></th>\n",
       "    </tr>\n",
       "  </thead>\n",
       "  <tbody>\n",
       "    <tr>\n",
       "      <th>A</th>\n",
       "      <td>2.44</td>\n",
       "      <td>6.10</td>\n",
       "      <td>8.54</td>\n",
       "      <td>24.39</td>\n",
       "      <td>14.63</td>\n",
       "    </tr>\n",
       "    <tr>\n",
       "      <th>B</th>\n",
       "      <td>7.32</td>\n",
       "      <td>13.41</td>\n",
       "      <td>14.63</td>\n",
       "      <td>8.54</td>\n",
       "      <td>0.00</td>\n",
       "    </tr>\n",
       "  </tbody>\n",
       "</table>\n",
       "</div>"
      ],
      "text/plain": [
       "SATISFACAO  Muito Insatisfeito  Insatisfeito  Indiferente  Satisfeito  \\\n",
       "PLANO                                                                   \n",
       "A                         2.44          6.10         8.54       24.39   \n",
       "B                         7.32         13.41        14.63        8.54   \n",
       "\n",
       "SATISFACAO  Muito Satisfeito  \n",
       "PLANO                         \n",
       "A                      14.63  \n",
       "B                       0.00  "
      ]
     },
     "execution_count": 50,
     "metadata": {},
     "output_type": "execute_result"
    }
   ],
   "source": [
    "# ESCREVA SEU CODIGO AQUI\n",
    "plano_x_satisfacao = pd.crosstab(dados['PLANO'], dados['SATISFACAO'], normalize=True).round(4)*100 #round arredonda\n",
    "plano_x_satisfacao"
   ]
  },
  {
   "cell_type": "code",
   "execution_count": 51,
   "metadata": {},
   "outputs": [
    {
     "data": {
      "text/html": [
       "<div>\n",
       "<style scoped>\n",
       "    .dataframe tbody tr th:only-of-type {\n",
       "        vertical-align: middle;\n",
       "    }\n",
       "\n",
       "    .dataframe tbody tr th {\n",
       "        vertical-align: top;\n",
       "    }\n",
       "\n",
       "    .dataframe thead th {\n",
       "        text-align: right;\n",
       "    }\n",
       "</style>\n",
       "<table border=\"1\" class=\"dataframe\">\n",
       "  <thead>\n",
       "    <tr style=\"text-align: right;\">\n",
       "      <th>SATISFACAO</th>\n",
       "      <th>Muito Insatisfeito</th>\n",
       "      <th>Insatisfeito</th>\n",
       "      <th>Indiferente</th>\n",
       "      <th>Satisfeito</th>\n",
       "      <th>Muito Satisfeito</th>\n",
       "    </tr>\n",
       "    <tr>\n",
       "      <th>PLANO</th>\n",
       "      <th></th>\n",
       "      <th></th>\n",
       "      <th></th>\n",
       "      <th></th>\n",
       "      <th></th>\n",
       "    </tr>\n",
       "  </thead>\n",
       "  <tbody>\n",
       "    <tr>\n",
       "      <th>A</th>\n",
       "      <td>4.35</td>\n",
       "      <td>10.87</td>\n",
       "      <td>15.22</td>\n",
       "      <td>43.48</td>\n",
       "      <td>26.09</td>\n",
       "    </tr>\n",
       "    <tr>\n",
       "      <th>B</th>\n",
       "      <td>16.67</td>\n",
       "      <td>30.56</td>\n",
       "      <td>33.33</td>\n",
       "      <td>19.44</td>\n",
       "      <td>0.00</td>\n",
       "    </tr>\n",
       "    <tr>\n",
       "      <th>All</th>\n",
       "      <td>9.76</td>\n",
       "      <td>19.51</td>\n",
       "      <td>23.17</td>\n",
       "      <td>32.93</td>\n",
       "      <td>14.63</td>\n",
       "    </tr>\n",
       "  </tbody>\n",
       "</table>\n",
       "</div>"
      ],
      "text/plain": [
       "SATISFACAO  Muito Insatisfeito  Insatisfeito  Indiferente  Satisfeito  \\\n",
       "PLANO                                                                   \n",
       "A                         4.35         10.87        15.22       43.48   \n",
       "B                        16.67         30.56        33.33       19.44   \n",
       "All                       9.76         19.51        23.17       32.93   \n",
       "\n",
       "SATISFACAO  Muito Satisfeito  \n",
       "PLANO                         \n",
       "A                      26.09  \n",
       "B                       0.00  \n",
       "All                    14.63  "
      ]
     },
     "execution_count": 51,
     "metadata": {},
     "output_type": "execute_result"
    }
   ],
   "source": [
    "#Uso do normalize pode fazer freq. relativa por todos ou linha ou coluna\n",
    "#Uso do margins adiociona o total geral por linha e/ou coluna => ALL (compreendendo a variável isolada)\n",
    "plano_x_satisfacao = pd.crosstab(dados['PLANO'], dados['SATISFACAO'],normalize='index', margins = True).round(4)*100 #faz a porcentagem em relação ao total pra cada linha\n",
    "plano_x_satisfacao "
   ]
  },
  {
   "cell_type": "markdown",
   "metadata": {},
   "source": [
    "Pode ser mais interessante visualizar esses dados como porcentagens. Para isso podemos multiplicar todas as frequências por 100 (por isso precisávamos guardar a tabela cruzada na variável `plano_x_satisfacao`):"
   ]
  },
  {
   "cell_type": "code",
   "execution_count": 37,
   "metadata": {},
   "outputs": [
    {
     "data": {
      "text/html": [
       "<div>\n",
       "<style scoped>\n",
       "    .dataframe tbody tr th:only-of-type {\n",
       "        vertical-align: middle;\n",
       "    }\n",
       "\n",
       "    .dataframe tbody tr th {\n",
       "        vertical-align: top;\n",
       "    }\n",
       "\n",
       "    .dataframe thead th {\n",
       "        text-align: right;\n",
       "    }\n",
       "</style>\n",
       "<table border=\"1\" class=\"dataframe\">\n",
       "  <thead>\n",
       "    <tr style=\"text-align: right;\">\n",
       "      <th>SATISFACAO</th>\n",
       "      <th>Muito Insatisfeito</th>\n",
       "      <th>Insatisfeito</th>\n",
       "      <th>Indiferente</th>\n",
       "      <th>Satisfeito</th>\n",
       "      <th>Muito Satisfeito</th>\n",
       "    </tr>\n",
       "    <tr>\n",
       "      <th>PLANO</th>\n",
       "      <th></th>\n",
       "      <th></th>\n",
       "      <th></th>\n",
       "      <th></th>\n",
       "      <th></th>\n",
       "    </tr>\n",
       "  </thead>\n",
       "  <tbody>\n",
       "    <tr>\n",
       "      <th>A</th>\n",
       "      <td>4.35</td>\n",
       "      <td>10.87</td>\n",
       "      <td>15.22</td>\n",
       "      <td>43.48</td>\n",
       "      <td>26.09</td>\n",
       "    </tr>\n",
       "    <tr>\n",
       "      <th>B</th>\n",
       "      <td>16.67</td>\n",
       "      <td>30.56</td>\n",
       "      <td>33.33</td>\n",
       "      <td>19.44</td>\n",
       "      <td>0.00</td>\n",
       "    </tr>\n",
       "    <tr>\n",
       "      <th>All</th>\n",
       "      <td>9.76</td>\n",
       "      <td>19.51</td>\n",
       "      <td>23.17</td>\n",
       "      <td>32.93</td>\n",
       "      <td>14.63</td>\n",
       "    </tr>\n",
       "  </tbody>\n",
       "</table>\n",
       "</div>"
      ],
      "text/plain": [
       "SATISFACAO  Muito Insatisfeito  Insatisfeito  Indiferente  Satisfeito  \\\n",
       "PLANO                                                                   \n",
       "A                         4.35         10.87        15.22       43.48   \n",
       "B                        16.67         30.56        33.33       19.44   \n",
       "All                       9.76         19.51        23.17       32.93   \n",
       "\n",
       "SATISFACAO  Muito Satisfeito  \n",
       "PLANO                         \n",
       "A                      26.09  \n",
       "B                       0.00  \n",
       "All                    14.63  "
      ]
     },
     "execution_count": 37,
     "metadata": {},
     "output_type": "execute_result"
    }
   ],
   "source": [
    "plano_x_satisfacao_pct = plano_x_satisfacao*100\n",
    "plano_x_satisfacao_pct"
   ]
  },
  {
   "cell_type": "markdown",
   "metadata": {},
   "source": [
    "Para deixar um pouco mais claro, vamos mostrar apenas as primeiras 2 casas decimais:"
   ]
  },
  {
   "cell_type": "code",
   "execution_count": 59,
   "metadata": {},
   "outputs": [
    {
     "name": "stdout",
     "output_type": "stream",
     "text": [
      "Tabela Cruzada por total por PLANO (em %):\n"
     ]
    },
    {
     "data": {
      "text/html": [
       "<div>\n",
       "<style scoped>\n",
       "    .dataframe tbody tr th:only-of-type {\n",
       "        vertical-align: middle;\n",
       "    }\n",
       "\n",
       "    .dataframe tbody tr th {\n",
       "        vertical-align: top;\n",
       "    }\n",
       "\n",
       "    .dataframe thead th {\n",
       "        text-align: right;\n",
       "    }\n",
       "</style>\n",
       "<table border=\"1\" class=\"dataframe\">\n",
       "  <thead>\n",
       "    <tr style=\"text-align: right;\">\n",
       "      <th>SATISFACAO</th>\n",
       "      <th>Muito Insatisfeito</th>\n",
       "      <th>Insatisfeito</th>\n",
       "      <th>Indiferente</th>\n",
       "      <th>Satisfeito</th>\n",
       "      <th>Muito Satisfeito</th>\n",
       "    </tr>\n",
       "    <tr>\n",
       "      <th>PLANO</th>\n",
       "      <th></th>\n",
       "      <th></th>\n",
       "      <th></th>\n",
       "      <th></th>\n",
       "      <th></th>\n",
       "    </tr>\n",
       "  </thead>\n",
       "  <tbody>\n",
       "    <tr>\n",
       "      <th>A</th>\n",
       "      <td>4.35</td>\n",
       "      <td>10.87</td>\n",
       "      <td>15.22</td>\n",
       "      <td>43.48</td>\n",
       "      <td>26.09</td>\n",
       "    </tr>\n",
       "    <tr>\n",
       "      <th>B</th>\n",
       "      <td>16.67</td>\n",
       "      <td>30.56</td>\n",
       "      <td>33.33</td>\n",
       "      <td>19.44</td>\n",
       "      <td>0.00</td>\n",
       "    </tr>\n",
       "    <tr>\n",
       "      <th>All</th>\n",
       "      <td>9.76</td>\n",
       "      <td>19.51</td>\n",
       "      <td>23.17</td>\n",
       "      <td>32.93</td>\n",
       "      <td>14.63</td>\n",
       "    </tr>\n",
       "  </tbody>\n",
       "</table>\n",
       "</div>"
      ],
      "text/plain": [
       "SATISFACAO  Muito Insatisfeito  Insatisfeito  Indiferente  Satisfeito  \\\n",
       "PLANO                                                                   \n",
       "A                         4.35         10.87        15.22       43.48   \n",
       "B                        16.67         30.56        33.33       19.44   \n",
       "All                       9.76         19.51        23.17       32.93   \n",
       "\n",
       "SATISFACAO  Muito Satisfeito  \n",
       "PLANO                         \n",
       "A                      26.09  \n",
       "B                       0.00  \n",
       "All                    14.63  "
      ]
     },
     "execution_count": 59,
     "metadata": {},
     "output_type": "execute_result"
    }
   ],
   "source": [
    "plano_x_satisfacao_pct = plano_x_satisfacao_pct.round(2)\n",
    "print('Tabela Cruzada por total por PLANO (em %):')\n",
    "plano_x_satisfacao_pct"
   ]
  },
  {
   "cell_type": "markdown",
   "metadata": {},
   "source": [
    "<div id=\"ex5\"></div>\n",
    "\n",
    "### EXERCÍCIO 5\n",
    "\n",
    "Discuta a tabela cruzada obtida acima. Quais hipóteses você pode levantar? Por quê?"
   ]
  },
  {
   "cell_type": "raw",
   "metadata": {},
   "source": [
    "ESCREVA SUA RESPOSTA AQUI"
   ]
  },
  {
   "cell_type": "markdown",
   "metadata": {},
   "source": [
    "[Volta ao Índice](#indice)"
   ]
  },
  {
   "cell_type": "markdown",
   "metadata": {},
   "source": [
    "<div id=\"quanti\"></div>\n",
    "\n",
    "___\n",
    "\n",
    "# Variáveis QUANTITATIVAS\n",
    "\n",
    "___"
   ]
  },
  {
   "cell_type": "markdown",
   "metadata": {},
   "source": [
    "<div id=\"tab-freq-quanti\"></div>\n",
    "\n",
    "## Tabelas de frequências - Variáveis Quantitativas - CUIDADO\n",
    "\n",
    "Vamos ver o que acontece ao tentarmos montar a tabela de frequências da variável RENDA:"
   ]
  },
  {
   "cell_type": "code",
   "execution_count": 60,
   "metadata": {
    "scrolled": true
   },
   "outputs": [
    {
     "data": {
      "text/plain": [
       "4.9     3\n",
       "5.4     2\n",
       "2.5     2\n",
       "13.2    2\n",
       "0.8     2\n",
       "       ..\n",
       "14.8    1\n",
       "6.8     1\n",
       "4.2     1\n",
       "5.7     1\n",
       "13.5    1\n",
       "Name: RENDA, Length: 68, dtype: int64"
      ]
     },
     "execution_count": 60,
     "metadata": {},
     "output_type": "execute_result"
    }
   ],
   "source": [
    "dados['RENDA'].value_counts()"
   ]
  },
  {
   "cell_type": "markdown",
   "metadata": {},
   "source": [
    "Deu ruim!"
   ]
  },
  {
   "cell_type": "markdown",
   "metadata": {},
   "source": [
    "<div id=\"ex6\"></div>\n",
    "\n",
    "### EXERCÍCIO 6\n",
    "\n",
    "Qual é o problema de tentarmos criar uma tabela de frequências para a variável RENDA?"
   ]
  },
  {
   "cell_type": "raw",
   "metadata": {},
   "source": [
    "ESCREVA SUA RESPOSTA AQUI"
   ]
  },
  {
   "cell_type": "markdown",
   "metadata": {},
   "source": [
    "[Volta ao Índice](#indice)"
   ]
  },
  {
   "cell_type": "markdown",
   "metadata": {},
   "source": [
    "<div id=\"medidas-resumo\"></div>\n",
    "\n",
    "___\n",
    "\n",
    "## Medidas resumo\n",
    "\n",
    "Ainda não consideramos a variável RENDA em nossa análise. Vimos em aula que é possível obter diversas medidas resumo a partir de variáveis quantitativas. Vamos explorar algumas delas para tentar compreender melhor os nossos dados.\n",
    "\n",
    "<div id=\"ex7\"></div>\n",
    "\n",
    "### EXERCÍCIO 7\n",
    "\n",
    "Antes de começar nossa análise, seria interessante comparar os resultados para cada plano separadamente. Para isso, vamos começar separando nosso `DataFrame` `dados` em dois `DataFrame`s diferentes. Crie quatro variáveis:\n",
    "\n",
    "- `dados_a` contendo somente os dados dos clientes do plano A;\n",
    "- `dados_b` contendo somente os dados dos clientes do plano B;\n",
    "- `renda_a` contendo somente a renda dos clientes do plano A (dica: utilize a variável `dados_a`);\n",
    "- `renda_b` contendo somente a renda dos clientes do plano B (dica: utilize a variável `dados_b`);\n",
    "\n",
    "Qual é o tipo das variáveis `renda_a` e `renda_b`? São do tipo `DataFrame` ou algum outro tipo?"
   ]
  },
  {
   "cell_type": "code",
   "execution_count": 40,
   "metadata": {},
   "outputs": [],
   "source": [
    "# ESCREVA SEU CODIGO AQUI\n",
    "dados_a = dados.iloc['A',]"
   ]
  },
  {
   "cell_type": "markdown",
   "metadata": {},
   "source": [
    "[Volta ao Índice](#indice)"
   ]
  },
  {
   "cell_type": "markdown",
   "metadata": {},
   "source": [
    "<div id=\"ex8\"></div>\n",
    "\n",
    "### EXERCÍCIO 8\n",
    "\n",
    "<div id=\"mean-median-etc\"></div>\n",
    "\n",
    "O pandas disponibiliza diversas funções para o cálculo de medidas resumo. Alguns exemplos são: `mean`, `median`, `quantile`, `var`, `std`. Os nomes das funções dão uma boa dica do que elas fazem, mas, como sempre, é bom verificar a documentação do pandas para garantir que elas fazem o que você espera.\n",
    "\n",
    "Imprima a média, o primeiro, segundo (mediana) e terceiro quartis e o desvio padrão das rendas do clientes do plano A e B, separadamente."
   ]
  },
  {
   "cell_type": "code",
   "execution_count": 41,
   "metadata": {},
   "outputs": [],
   "source": [
    "# ESCREVA SEU CODIGO AQUI"
   ]
  },
  {
   "cell_type": "markdown",
   "metadata": {},
   "source": [
    "[Volta ao Índice](#indice)"
   ]
  },
  {
   "cell_type": "markdown",
   "metadata": {},
   "source": [
    "<div id=\"ex9\"></div>\n",
    "\n",
    "### EXERCÍCIO 9\n",
    "\n",
    "<div id=\"describe\"></div>\n",
    "\n",
    "Uma função bastante útil para a análise exploratória é `.describe()`. Utilize a função `.describe()` com as rendas dos planos A e B e compare os resultados com os obtidos na célula anterior."
   ]
  },
  {
   "cell_type": "code",
   "execution_count": 42,
   "metadata": {},
   "outputs": [],
   "source": [
    "# ESCREVA SEU CODIGO AQUI"
   ]
  },
  {
   "cell_type": "markdown",
   "metadata": {},
   "source": [
    "[Volta ao Índice](#indice)"
   ]
  },
  {
   "cell_type": "markdown",
   "metadata": {},
   "source": [
    "<div id=\"ex10\"></div>\n",
    "\n",
    "### EXERCÍCIO 10\n",
    "\n",
    "Quais hipóteses você pode formular a partir das medidas resumo da renda dos clientes dos dois planos?"
   ]
  },
  {
   "cell_type": "code",
   "execution_count": 43,
   "metadata": {},
   "outputs": [],
   "source": [
    "#ESCREVA SUA RESPOSTA AQUI"
   ]
  },
  {
   "cell_type": "raw",
   "metadata": {},
   "source": [
    "ESCREVA SUA RESPOSTA AQUI"
   ]
  },
  {
   "cell_type": "markdown",
   "metadata": {},
   "source": [
    "[Volta ao Índice](#indice)"
   ]
  },
  {
   "cell_type": "markdown",
   "metadata": {},
   "source": [
    "<div id=\"ex11\"></div>\n",
    "\n",
    "### EXERCÍCIO 11\n",
    "\n",
    "Se tentarmos executar o comando\n",
    "\n",
    "    dados['EC'].mean()\n",
    "    \n",
    "vamos obter um erro. Por quê?"
   ]
  },
  {
   "cell_type": "raw",
   "metadata": {},
   "source": [
    "ESCREVA SUA RESPOSTA AQUI"
   ]
  },
  {
   "cell_type": "markdown",
   "metadata": {},
   "source": [
    "[Volta ao Índice](#indice)"
   ]
  },
  {
   "cell_type": "markdown",
   "metadata": {},
   "source": [
    "<div id=\"comandos\"></div>\n",
    "\n",
    "___\n",
    "\n",
    "## Lista de comandos utilizados neste notebook\n",
    "\n",
    "Os seguintes comandos foram utilizados neste jupyter notebook. Para facilitar sua consulta, escreva um resumo do que cada um deles faz:\n",
    "\n",
    "- [`.astype`](#astype): ESCREVA AQUI O RESUMO\n",
    "- [`.cat.categories`](#categories): ESCREVA AQUI O RESUMO\n",
    "- [`.cat.ordered`](#ordered): ESCREVA AQUI O RESUMO\n",
    "- [`.value_counts`](#value_counts): ESCREVA AQUI O RESUMO\n",
    "- [`pd.crosstab`](#crosstab): ESCREVA AQUI O RESUMO\n",
    "- [`.mean`](#mean-median-etc): ESCREVA AQUI O RESUMO\n",
    "- [`.median`](#mean-median-etc): ESCREVA AQUI O RESUMO\n",
    "- [`.quantile`](#mean-median-etc): ESCREVA AQUI O RESUMO\n",
    "- [`.var`](#mean-median-etc): ESCREVA AQUI O RESUMO\n",
    "- [`.std`](#mean-median-etc): ESCREVA AQUI O RESUMO\n",
    "- [`.describe`](#describe): ESCREVA AQUI O RESUMO"
   ]
  },
  {
   "cell_type": "code",
   "execution_count": null,
   "metadata": {},
   "outputs": [],
   "source": []
  }
 ],
 "metadata": {
  "kernelspec": {
   "display_name": "Python 3",
   "language": "python",
   "name": "python3"
  },
  "language_info": {
   "codemirror_mode": {
    "name": "ipython",
    "version": 3
   },
   "file_extension": ".py",
   "mimetype": "text/x-python",
   "name": "python",
   "nbconvert_exporter": "python",
   "pygments_lexer": "ipython3",
   "version": "3.7.6"
  }
 },
 "nbformat": 4,
 "nbformat_minor": 4
}
