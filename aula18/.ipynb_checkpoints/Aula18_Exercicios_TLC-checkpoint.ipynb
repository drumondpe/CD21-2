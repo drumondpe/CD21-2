{
 "cells": [
  {
   "cell_type": "markdown",
   "metadata": {},
   "source": [
    "___\n",
    "# Exercício: Uso da Distribuição Amostral da Média via resultado do TLC\n",
    "___\n",
    "## Aula 18"
   ]
  },
  {
   "cell_type": "markdown",
   "metadata": {},
   "source": [
    "<div id=\"indice\"></div>\n",
    "\n",
    "## Índice\n",
    "\n",
    "- [Exercício 1](#ex1)\n",
    "- [Exercício 2](#ex2)\n",
    "- [Exercício 3](#ex3)\n",
    "___"
   ]
  },
  {
   "cell_type": "code",
   "execution_count": 2,
   "metadata": {},
   "outputs": [],
   "source": [
    "%matplotlib inline\n",
    "%reset -f\n",
    "import matplotlib.pyplot as plt\n",
    "import pandas as pd\n",
    "import numpy as np\n",
    "from scipy import stats\n",
    "from scipy.stats import norm, uniform\n",
    "\n",
    "from math import sqrt"
   ]
  },
  {
   "cell_type": "markdown",
   "metadata": {},
   "source": [
    "___\n",
    "\n",
    "<div id=\"ex1\"></div>\n",
    "\n",
    "### EXERCÍCIO 1\n",
    "\n",
    "Suponha que a variável aleatória $X$ tem distribuição contínua Uniforme no intervalo de $[4; 6]$:\n",
    "\n",
    "$$f(x) = 1/2, 4 \\leq x \\leq 6$$\n",
    "caso contrário:\n",
    "$$f(x) = 0$$\n",
    "\n",
    "Apresente a distribuição da média amostral considerando amostras aleatórias de tamanho $n = 40$ extraídas de $X$.\n",
    "\n",
    "*Resposta esperada: $ \\overline{X} \\sim Normal(5; 0.008333333333333333)$*"
   ]
  },
  {
   "cell_type": "code",
   "execution_count": 3,
   "metadata": {},
   "outputs": [
    {
     "name": "stdout",
     "output_type": "stream",
     "text": [
      "5.0 0.008333333333333333\n"
     ]
    }
   ],
   "source": [
    "a = 4\n",
    "b = 6\n",
    "n = 40\n",
    "mu = stats.uniform.mean(loc=a, scale=b-a)\n",
    "dp = stats.uniform.std(loc=a, scale=b-a)\n",
    "var = dp**2\n",
    "\n",
    "mu_Xbarra = mu\n",
    "var_Xbarra = var/n\n",
    "print(mu_Xbarra, var_Xbarra)"
   ]
  },
  {
   "cell_type": "markdown",
   "metadata": {},
   "source": [
    "___\n",
    "\n",
    "<div id=\"ex2\"></div>\n",
    "\n",
    "### EXERCÍCIO 2\n",
    "\n",
    "(Montgomery Exercício 7-3 da Seção 7-2). \n",
    "\n",
    "Tubos de PVC têm um diâmetro médio de $1.01 in$ e um desvio padrão de $0.003 in$. Encontre a probabilidade de que uma amostra aleatória de  $n = 9$  seções do tubo tenham um diâmetro médio de amostra maior que $1.009 in$ e menor que $1.012 in$.\n",
    "\n",
    "*Resposta esperada: 0.8185946141203909*"
   ]
  },
  {
   "cell_type": "code",
   "execution_count": 10,
   "metadata": {},
   "outputs": [
    {
     "data": {
      "text/plain": [
       "0.8185946141203909"
      ]
     },
     "execution_count": 10,
     "metadata": {},
     "output_type": "execute_result"
    }
   ],
   "source": [
    "mu = 1.01\n",
    "dp = 0.003\n",
    "var = dp**2\n",
    "n = 9\n",
    "\n",
    "mu_Xbarra = mu\n",
    "var_Xbarra = var/n\n",
    "dp_Xbarra = var_Xbarra**0.5 \n",
    "\n",
    "prob = stats.norm.cdf(1.012, loc=mu_Xbarra, scale=dp_Xbarra) - stats.norm.cdf(1.009, loc=mu_Xbarra, scale=dp_Xbarra)\n",
    "prob"
   ]
  },
  {
   "cell_type": "markdown",
   "metadata": {},
   "source": [
    "___\n",
    "\n",
    "<div id=\"ex3\"></div>\n",
    "\n",
    "### EXERCÍCIO 3\n",
    "\n",
    "(Baseado em Montgomery Exercício 7-12 da Seção 7-2). \n",
    "\n",
    "A quantidade de tempo que um consumidor gasta esperando no balcão de *check-in* de um aeroporto é uma variável aleatória com média $8.2$ minutos e desvio padrão de $1.5$ minutos.\n",
    "\n",
    "Suponha que uma amostra aleatória de $n = 49$ consumidores seja observada.\n",
    "\n",
    "\n",
    "*Respostas esperadas: 0.9999055188751956, 0.7439193959139991, 7.847531365653255, 8.552468634346743*"
   ]
  },
  {
   "cell_type": "code",
   "execution_count": 5,
   "metadata": {},
   "outputs": [],
   "source": [
    "'''\n",
    "- População: todos os clientes do aeroporto\n",
    "- X: tempo gasto no balcão\n",
    "- Comportamento da distribuição (norm, expon, uni...) = não sei\n",
    "- Não importa a distribuição de X, Xbarra vai querer ser uma distribuição normal, \n",
    "- será uma normal aproximada se o comportamento não for uma normal\n",
    "- QUANTO MAIS INFORMAÇÃO NA AMOSTRA, MAIS PERTO DO VALOR DE MU (MENOR A VARIAÇÃO DE Xbarra)\n",
    "- quanto menor o n, mais achatada a curva\n",
    "- Xbarra: tempo médio amostral\n",
    "'''\n",
    "mu = 8.2\n",
    "dp = 1.5\n",
    "var = dp**2\n",
    "n = 49 #amostra da população\n",
    "mu_Xbarra = mu # se aproxima de mu, de acordo com o aumento da amostra\n",
    "Var_Xbarra = var/n\n",
    "DP_barra = Var_Xbarra**0.5\n",
    "sigma = DP_barra"
   ]
  },
  {
   "cell_type": "markdown",
   "metadata": {},
   "source": [
    "a) a probabilidade de que o tempo médio amostral de espera na fila para esses consumidores seja menor do que 9 minutos"
   ]
  },
  {
   "cell_type": "code",
   "execution_count": 6,
   "metadata": {},
   "outputs": [
    {
     "name": "stdout",
     "output_type": "stream",
     "text": [
      "0.9999055\n"
     ]
    }
   ],
   "source": [
    "# P(Xbarra > 9)\n",
    "P_Xbarra = stats.norm.cdf(9, loc=mu_Xbarra, scale=sigma) #CDF porque é uma prob. acumulada até um ponto\n",
    "print(f'{P_Xbarra:.7f}')"
   ]
  },
  {
   "cell_type": "markdown",
   "metadata": {},
   "source": [
    "b) a probabilidade de que o tempo médio amostral de espera na fila para esses consumidores seja entre 8 e 8.5 minutos"
   ]
  },
  {
   "cell_type": "code",
   "execution_count": 7,
   "metadata": {},
   "outputs": [
    {
     "name": "stdout",
     "output_type": "stream",
     "text": [
      "0.7439194\n"
     ]
    }
   ],
   "source": [
    "#B)\n",
    "# P(8 <= Xbarra <= 8.5) = P(X <= 8.5) - P(X < 8)\n",
    "Prob_Xbarra_menor8meio = stats.norm.cdf(8.5, loc=mu_Xbarra, scale=sigma) - stats.norm.cdf(8, loc=mu_Xbarra, scale=sigma)\n",
    "print(f'{Prob_Xbarra_menor8meio:.7f}')"
   ]
  },
  {
   "cell_type": "markdown",
   "metadata": {},
   "source": [
    "c) a maior estimativa da média amostral referente aos 5% menores valores (mais difíceis) de acontecerem em uma amostra de 49 consumidores."
   ]
  },
  {
   "cell_type": "code",
   "execution_count": 8,
   "metadata": {},
   "outputs": [
    {
     "data": {
      "text/plain": [
       "7.847531365653255"
      ]
     },
     "execution_count": 8,
     "metadata": {},
     "output_type": "execute_result"
    }
   ],
   "source": [
    "#C)stats.norm.ppf(p, loc=mu, scale=sigma)\n",
    "stats.norm.ppf(0.05, loc=mu_Xbarra, scale=sigma)"
   ]
  },
  {
   "cell_type": "markdown",
   "metadata": {},
   "source": [
    "d) a menor estimativa da média amostral referente aos 5% maiores valores (mais difíceis) de acontecerem em uma amostra de 49 consumidores."
   ]
  },
  {
   "cell_type": "code",
   "execution_count": 9,
   "metadata": {},
   "outputs": [
    {
     "data": {
      "text/plain": [
       "8.552468634346743"
      ]
     },
     "execution_count": 9,
     "metadata": {},
     "output_type": "execute_result"
    }
   ],
   "source": [
    "#D)\n",
    "stats.norm.ppf(1 - 0.05, loc=mu_Xbarra, scale=sigma)"
   ]
  },
  {
   "cell_type": "code",
   "execution_count": null,
   "metadata": {},
   "outputs": [],
   "source": []
  }
 ],
 "metadata": {
  "kernelspec": {
   "display_name": "Python 3",
   "language": "python",
   "name": "python3"
  },
  "language_info": {
   "codemirror_mode": {
    "name": "ipython",
    "version": 3
   },
   "file_extension": ".py",
   "mimetype": "text/x-python",
   "name": "python",
   "nbconvert_exporter": "python",
   "pygments_lexer": "ipython3",
   "version": "3.7.6"
  }
 },
 "nbformat": 4,
 "nbformat_minor": 2
}
